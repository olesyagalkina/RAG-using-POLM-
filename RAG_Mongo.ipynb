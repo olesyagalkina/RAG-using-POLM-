{
 "cells": [
  {
   "cell_type": "code",
   "execution_count": 6,
   "id": "c58a4d39-561d-4112-b6a7-ceb5f57a958a",
   "metadata": {},
   "outputs": [],
   "source": [
    "import getpass\n",
    "import os"
   ]
  },
  {
   "cell_type": "code",
   "execution_count": 15,
   "id": "1020727d-ebd2-4224-ad73-19ecc0961bfd",
   "metadata": {},
   "outputs": [],
   "source": [
    "os.environ[\"OPENAI_API_KEY\"] = getpass.getpass(\"OPEN API KEY:\")"
   ]
  },
  {
   "cell_type": "code",
   "execution_count": 16,
   "id": "2aaa1fa5-d488-475d-a556-3dea87cd32cc",
   "metadata": {},
   "outputs": [
    {
     "name": "stderr",
     "output_type": "stream",
     "text": [
      "/home/codespace/.python/current/lib/python3.12/site-packages/tqdm/auto.py:21: TqdmWarning: IProgress not found. Please update jupyter and ipywidgets. See https://ipywidgets.readthedocs.io/en/stable/user_install.html\n",
      "  from .autonotebook import tqdm as notebook_tqdm\n"
     ]
    }
   ],
   "source": [
    "from datasets import load_dataset\n",
    "import pandas as pd\n",
    "\n",
    "# https://huggingface.co/datasets/AIatMongoDB/embedded_movies\n",
    "\n",
    "ds = load_dataset(\"MongoDB/embedded_movies\")\n"
   ]
  },
  {
   "cell_type": "code",
   "execution_count": 17,
   "id": "7c8bd6db-62f6-472f-a8c6-896789d7bd45",
   "metadata": {},
   "outputs": [
    {
     "data": {
      "text/html": [
       "<div>\n",
       "<style scoped>\n",
       "    .dataframe tbody tr th:only-of-type {\n",
       "        vertical-align: middle;\n",
       "    }\n",
       "\n",
       "    .dataframe tbody tr th {\n",
       "        vertical-align: top;\n",
       "    }\n",
       "\n",
       "    .dataframe thead th {\n",
       "        text-align: right;\n",
       "    }\n",
       "</style>\n",
       "<table border=\"1\" class=\"dataframe\">\n",
       "  <thead>\n",
       "    <tr style=\"text-align: right;\">\n",
       "      <th></th>\n",
       "      <th>plot</th>\n",
       "      <th>runtime</th>\n",
       "      <th>genres</th>\n",
       "      <th>fullplot</th>\n",
       "      <th>directors</th>\n",
       "      <th>writers</th>\n",
       "      <th>countries</th>\n",
       "      <th>poster</th>\n",
       "      <th>languages</th>\n",
       "      <th>cast</th>\n",
       "      <th>title</th>\n",
       "      <th>num_mflix_comments</th>\n",
       "      <th>rated</th>\n",
       "      <th>imdb</th>\n",
       "      <th>awards</th>\n",
       "      <th>type</th>\n",
       "      <th>metacritic</th>\n",
       "      <th>plot_embedding</th>\n",
       "    </tr>\n",
       "  </thead>\n",
       "  <tbody>\n",
       "    <tr>\n",
       "      <th>0</th>\n",
       "      <td>Young Pauline is left a lot of money when her ...</td>\n",
       "      <td>199.0</td>\n",
       "      <td>[Action]</td>\n",
       "      <td>Young Pauline is left a lot of money when her ...</td>\n",
       "      <td>[Louis J. Gasnier, Donald MacKenzie]</td>\n",
       "      <td>[Charles W. Goddard (screenplay), Basil Dickey...</td>\n",
       "      <td>[USA]</td>\n",
       "      <td>https://m.media-amazon.com/images/M/MV5BMzgxOD...</td>\n",
       "      <td>[English]</td>\n",
       "      <td>[Pearl White, Crane Wilbur, Paul Panzer, Edwar...</td>\n",
       "      <td>The Perils of Pauline</td>\n",
       "      <td>0</td>\n",
       "      <td>None</td>\n",
       "      <td>{'id': 4465, 'rating': 7.6, 'votes': 744}</td>\n",
       "      <td>{'nominations': 0, 'text': '1 win.', 'wins': 1}</td>\n",
       "      <td>movie</td>\n",
       "      <td>NaN</td>\n",
       "      <td>[0.0007293965299999999, -0.026834568000000003,...</td>\n",
       "    </tr>\n",
       "    <tr>\n",
       "      <th>1</th>\n",
       "      <td>A penniless young man tries to save an heiress...</td>\n",
       "      <td>22.0</td>\n",
       "      <td>[Comedy, Short, Action]</td>\n",
       "      <td>As a penniless man worries about how he will m...</td>\n",
       "      <td>[Alfred J. Goulding, Hal Roach]</td>\n",
       "      <td>[H.M. Walker (titles)]</td>\n",
       "      <td>[USA]</td>\n",
       "      <td>https://m.media-amazon.com/images/M/MV5BNzE1OW...</td>\n",
       "      <td>[English]</td>\n",
       "      <td>[Harold Lloyd, Mildred Davis, 'Snub' Pollard, ...</td>\n",
       "      <td>From Hand to Mouth</td>\n",
       "      <td>0</td>\n",
       "      <td>TV-G</td>\n",
       "      <td>{'id': 10146, 'rating': 7.0, 'votes': 639}</td>\n",
       "      <td>{'nominations': 1, 'text': '1 nomination.', 'w...</td>\n",
       "      <td>movie</td>\n",
       "      <td>NaN</td>\n",
       "      <td>[-0.022837115, -0.022941574000000003, 0.014937...</td>\n",
       "    </tr>\n",
       "    <tr>\n",
       "      <th>2</th>\n",
       "      <td>Michael \"Beau\" Geste leaves England in disgrac...</td>\n",
       "      <td>101.0</td>\n",
       "      <td>[Action, Adventure, Drama]</td>\n",
       "      <td>Michael \"Beau\" Geste leaves England in disgrac...</td>\n",
       "      <td>[Herbert Brenon]</td>\n",
       "      <td>[Herbert Brenon (adaptation), John Russell (ad...</td>\n",
       "      <td>[USA]</td>\n",
       "      <td>None</td>\n",
       "      <td>[English]</td>\n",
       "      <td>[Ronald Colman, Neil Hamilton, Ralph Forbes, A...</td>\n",
       "      <td>Beau Geste</td>\n",
       "      <td>0</td>\n",
       "      <td>None</td>\n",
       "      <td>{'id': 16634, 'rating': 6.9, 'votes': 222}</td>\n",
       "      <td>{'nominations': 0, 'text': '1 win.', 'wins': 1}</td>\n",
       "      <td>movie</td>\n",
       "      <td>NaN</td>\n",
       "      <td>[0.00023330492999999998, -0.028511643000000003...</td>\n",
       "    </tr>\n",
       "    <tr>\n",
       "      <th>3</th>\n",
       "      <td>Seeking revenge, an athletic young man joins t...</td>\n",
       "      <td>88.0</td>\n",
       "      <td>[Adventure, Action]</td>\n",
       "      <td>A nobleman vows to avenge the death of his fat...</td>\n",
       "      <td>[Albert Parker]</td>\n",
       "      <td>[Douglas Fairbanks (story), Jack Cunningham (a...</td>\n",
       "      <td>[USA]</td>\n",
       "      <td>https://m.media-amazon.com/images/M/MV5BMzU0ND...</td>\n",
       "      <td>None</td>\n",
       "      <td>[Billie Dove, Tempe Pigott, Donald Crisp, Sam ...</td>\n",
       "      <td>The Black Pirate</td>\n",
       "      <td>1</td>\n",
       "      <td>None</td>\n",
       "      <td>{'id': 16654, 'rating': 7.2, 'votes': 1146}</td>\n",
       "      <td>{'nominations': 0, 'text': '1 win.', 'wins': 1}</td>\n",
       "      <td>movie</td>\n",
       "      <td>NaN</td>\n",
       "      <td>[-0.005927917, -0.033394486, 0.0015323418, -0....</td>\n",
       "    </tr>\n",
       "    <tr>\n",
       "      <th>4</th>\n",
       "      <td>An irresponsible young millionaire changes his...</td>\n",
       "      <td>58.0</td>\n",
       "      <td>[Action, Comedy, Romance]</td>\n",
       "      <td>The Uptown Boy, J. Harold Manners (Lloyd) is a...</td>\n",
       "      <td>[Sam Taylor]</td>\n",
       "      <td>[Ted Wilde (story), John Grey (story), Clyde B...</td>\n",
       "      <td>[USA]</td>\n",
       "      <td>https://m.media-amazon.com/images/M/MV5BMTcxMT...</td>\n",
       "      <td>[English]</td>\n",
       "      <td>[Harold Lloyd, Jobyna Ralston, Noah Young, Jim...</td>\n",
       "      <td>For Heaven's Sake</td>\n",
       "      <td>0</td>\n",
       "      <td>PASSED</td>\n",
       "      <td>{'id': 16895, 'rating': 7.6, 'votes': 918}</td>\n",
       "      <td>{'nominations': 1, 'text': '1 nomination.', 'w...</td>\n",
       "      <td>movie</td>\n",
       "      <td>NaN</td>\n",
       "      <td>[-0.0059373598, -0.026604708, -0.0070914757000...</td>\n",
       "    </tr>\n",
       "  </tbody>\n",
       "</table>\n",
       "</div>"
      ],
      "text/plain": [
       "                                                plot  runtime  \\\n",
       "0  Young Pauline is left a lot of money when her ...    199.0   \n",
       "1  A penniless young man tries to save an heiress...     22.0   \n",
       "2  Michael \"Beau\" Geste leaves England in disgrac...    101.0   \n",
       "3  Seeking revenge, an athletic young man joins t...     88.0   \n",
       "4  An irresponsible young millionaire changes his...     58.0   \n",
       "\n",
       "                       genres  \\\n",
       "0                    [Action]   \n",
       "1     [Comedy, Short, Action]   \n",
       "2  [Action, Adventure, Drama]   \n",
       "3         [Adventure, Action]   \n",
       "4   [Action, Comedy, Romance]   \n",
       "\n",
       "                                            fullplot  \\\n",
       "0  Young Pauline is left a lot of money when her ...   \n",
       "1  As a penniless man worries about how he will m...   \n",
       "2  Michael \"Beau\" Geste leaves England in disgrac...   \n",
       "3  A nobleman vows to avenge the death of his fat...   \n",
       "4  The Uptown Boy, J. Harold Manners (Lloyd) is a...   \n",
       "\n",
       "                              directors  \\\n",
       "0  [Louis J. Gasnier, Donald MacKenzie]   \n",
       "1       [Alfred J. Goulding, Hal Roach]   \n",
       "2                      [Herbert Brenon]   \n",
       "3                       [Albert Parker]   \n",
       "4                          [Sam Taylor]   \n",
       "\n",
       "                                             writers countries  \\\n",
       "0  [Charles W. Goddard (screenplay), Basil Dickey...     [USA]   \n",
       "1                             [H.M. Walker (titles)]     [USA]   \n",
       "2  [Herbert Brenon (adaptation), John Russell (ad...     [USA]   \n",
       "3  [Douglas Fairbanks (story), Jack Cunningham (a...     [USA]   \n",
       "4  [Ted Wilde (story), John Grey (story), Clyde B...     [USA]   \n",
       "\n",
       "                                              poster  languages  \\\n",
       "0  https://m.media-amazon.com/images/M/MV5BMzgxOD...  [English]   \n",
       "1  https://m.media-amazon.com/images/M/MV5BNzE1OW...  [English]   \n",
       "2                                               None  [English]   \n",
       "3  https://m.media-amazon.com/images/M/MV5BMzU0ND...       None   \n",
       "4  https://m.media-amazon.com/images/M/MV5BMTcxMT...  [English]   \n",
       "\n",
       "                                                cast                  title  \\\n",
       "0  [Pearl White, Crane Wilbur, Paul Panzer, Edwar...  The Perils of Pauline   \n",
       "1  [Harold Lloyd, Mildred Davis, 'Snub' Pollard, ...     From Hand to Mouth   \n",
       "2  [Ronald Colman, Neil Hamilton, Ralph Forbes, A...             Beau Geste   \n",
       "3  [Billie Dove, Tempe Pigott, Donald Crisp, Sam ...       The Black Pirate   \n",
       "4  [Harold Lloyd, Jobyna Ralston, Noah Young, Jim...      For Heaven's Sake   \n",
       "\n",
       "   num_mflix_comments   rated                                         imdb  \\\n",
       "0                   0    None    {'id': 4465, 'rating': 7.6, 'votes': 744}   \n",
       "1                   0    TV-G   {'id': 10146, 'rating': 7.0, 'votes': 639}   \n",
       "2                   0    None   {'id': 16634, 'rating': 6.9, 'votes': 222}   \n",
       "3                   1    None  {'id': 16654, 'rating': 7.2, 'votes': 1146}   \n",
       "4                   0  PASSED   {'id': 16895, 'rating': 7.6, 'votes': 918}   \n",
       "\n",
       "                                              awards   type  metacritic  \\\n",
       "0    {'nominations': 0, 'text': '1 win.', 'wins': 1}  movie         NaN   \n",
       "1  {'nominations': 1, 'text': '1 nomination.', 'w...  movie         NaN   \n",
       "2    {'nominations': 0, 'text': '1 win.', 'wins': 1}  movie         NaN   \n",
       "3    {'nominations': 0, 'text': '1 win.', 'wins': 1}  movie         NaN   \n",
       "4  {'nominations': 1, 'text': '1 nomination.', 'w...  movie         NaN   \n",
       "\n",
       "                                      plot_embedding  \n",
       "0  [0.0007293965299999999, -0.026834568000000003,...  \n",
       "1  [-0.022837115, -0.022941574000000003, 0.014937...  \n",
       "2  [0.00023330492999999998, -0.028511643000000003...  \n",
       "3  [-0.005927917, -0.033394486, 0.0015323418, -0....  \n",
       "4  [-0.0059373598, -0.026604708, -0.0070914757000...  "
      ]
     },
     "execution_count": 17,
     "metadata": {},
     "output_type": "execute_result"
    }
   ],
   "source": [
    "# Convert the dataset to a pandas dataframe\n",
    "\n",
    "dataset_df=pd.DataFrame(ds['train'])\n",
    "\n",
    "dataset_df.head()"
   ]
  },
  {
   "cell_type": "code",
   "execution_count": 18,
   "id": "ca6c5974-d685-4f13-9df0-572af84e6127",
   "metadata": {},
   "outputs": [
    {
     "data": {
      "text/plain": [
       "(1500, 18)"
      ]
     },
     "execution_count": 18,
     "metadata": {},
     "output_type": "execute_result"
    }
   ],
   "source": [
    "dataset_df.shape"
   ]
  },
  {
   "cell_type": "code",
   "execution_count": 19,
   "id": "08418c1e-ef3e-433e-a17b-d2ec8cfa1e4f",
   "metadata": {},
   "outputs": [
    {
     "data": {
      "text/plain": [
       "Index(['plot', 'runtime', 'genres', 'fullplot', 'directors', 'writers',\n",
       "       'countries', 'poster', 'languages', 'cast', 'title',\n",
       "       'num_mflix_comments', 'rated', 'imdb', 'awards', 'type', 'metacritic',\n",
       "       'plot_embedding'],\n",
       "      dtype='object')"
      ]
     },
     "execution_count": 19,
     "metadata": {},
     "output_type": "execute_result"
    }
   ],
   "source": [
    "dataset_df.columns"
   ]
  },
  {
   "cell_type": "code",
   "execution_count": 20,
   "id": "ee9dc69c-7d3d-4248-a6d6-21636086b9fe",
   "metadata": {},
   "outputs": [
    {
     "name": "stdout",
     "output_type": "stream",
     "text": [
      "\n",
      "Number of missing values in each column after removal:\n",
      "plot                    0\n",
      "runtime                14\n",
      "genres                  0\n",
      "fullplot                0\n",
      "directors              12\n",
      "writers                13\n",
      "countries               0\n",
      "poster                 78\n",
      "languages               1\n",
      "cast                    1\n",
      "title                   0\n",
      "num_mflix_comments      0\n",
      "rated                 279\n",
      "imdb                    0\n",
      "awards                  0\n",
      "type                    0\n",
      "metacritic            893\n",
      "plot_embedding          1\n",
      "dtype: int64\n"
     ]
    },
    {
     "data": {
      "text/html": [
       "<div>\n",
       "<style scoped>\n",
       "    .dataframe tbody tr th:only-of-type {\n",
       "        vertical-align: middle;\n",
       "    }\n",
       "\n",
       "    .dataframe tbody tr th {\n",
       "        vertical-align: top;\n",
       "    }\n",
       "\n",
       "    .dataframe thead th {\n",
       "        text-align: right;\n",
       "    }\n",
       "</style>\n",
       "<table border=\"1\" class=\"dataframe\">\n",
       "  <thead>\n",
       "    <tr style=\"text-align: right;\">\n",
       "      <th></th>\n",
       "      <th>plot</th>\n",
       "      <th>runtime</th>\n",
       "      <th>genres</th>\n",
       "      <th>fullplot</th>\n",
       "      <th>directors</th>\n",
       "      <th>writers</th>\n",
       "      <th>countries</th>\n",
       "      <th>poster</th>\n",
       "      <th>languages</th>\n",
       "      <th>cast</th>\n",
       "      <th>title</th>\n",
       "      <th>num_mflix_comments</th>\n",
       "      <th>rated</th>\n",
       "      <th>imdb</th>\n",
       "      <th>awards</th>\n",
       "      <th>type</th>\n",
       "      <th>metacritic</th>\n",
       "    </tr>\n",
       "  </thead>\n",
       "  <tbody>\n",
       "    <tr>\n",
       "      <th>0</th>\n",
       "      <td>Young Pauline is left a lot of money when her ...</td>\n",
       "      <td>199.0</td>\n",
       "      <td>[Action]</td>\n",
       "      <td>Young Pauline is left a lot of money when her ...</td>\n",
       "      <td>[Louis J. Gasnier, Donald MacKenzie]</td>\n",
       "      <td>[Charles W. Goddard (screenplay), Basil Dickey...</td>\n",
       "      <td>[USA]</td>\n",
       "      <td>https://m.media-amazon.com/images/M/MV5BMzgxOD...</td>\n",
       "      <td>[English]</td>\n",
       "      <td>[Pearl White, Crane Wilbur, Paul Panzer, Edwar...</td>\n",
       "      <td>The Perils of Pauline</td>\n",
       "      <td>0</td>\n",
       "      <td>None</td>\n",
       "      <td>{'id': 4465, 'rating': 7.6, 'votes': 744}</td>\n",
       "      <td>{'nominations': 0, 'text': '1 win.', 'wins': 1}</td>\n",
       "      <td>movie</td>\n",
       "      <td>NaN</td>\n",
       "    </tr>\n",
       "    <tr>\n",
       "      <th>1</th>\n",
       "      <td>A penniless young man tries to save an heiress...</td>\n",
       "      <td>22.0</td>\n",
       "      <td>[Comedy, Short, Action]</td>\n",
       "      <td>As a penniless man worries about how he will m...</td>\n",
       "      <td>[Alfred J. Goulding, Hal Roach]</td>\n",
       "      <td>[H.M. Walker (titles)]</td>\n",
       "      <td>[USA]</td>\n",
       "      <td>https://m.media-amazon.com/images/M/MV5BNzE1OW...</td>\n",
       "      <td>[English]</td>\n",
       "      <td>[Harold Lloyd, Mildred Davis, 'Snub' Pollard, ...</td>\n",
       "      <td>From Hand to Mouth</td>\n",
       "      <td>0</td>\n",
       "      <td>TV-G</td>\n",
       "      <td>{'id': 10146, 'rating': 7.0, 'votes': 639}</td>\n",
       "      <td>{'nominations': 1, 'text': '1 nomination.', 'w...</td>\n",
       "      <td>movie</td>\n",
       "      <td>NaN</td>\n",
       "    </tr>\n",
       "    <tr>\n",
       "      <th>2</th>\n",
       "      <td>Michael \"Beau\" Geste leaves England in disgrac...</td>\n",
       "      <td>101.0</td>\n",
       "      <td>[Action, Adventure, Drama]</td>\n",
       "      <td>Michael \"Beau\" Geste leaves England in disgrac...</td>\n",
       "      <td>[Herbert Brenon]</td>\n",
       "      <td>[Herbert Brenon (adaptation), John Russell (ad...</td>\n",
       "      <td>[USA]</td>\n",
       "      <td>None</td>\n",
       "      <td>[English]</td>\n",
       "      <td>[Ronald Colman, Neil Hamilton, Ralph Forbes, A...</td>\n",
       "      <td>Beau Geste</td>\n",
       "      <td>0</td>\n",
       "      <td>None</td>\n",
       "      <td>{'id': 16634, 'rating': 6.9, 'votes': 222}</td>\n",
       "      <td>{'nominations': 0, 'text': '1 win.', 'wins': 1}</td>\n",
       "      <td>movie</td>\n",
       "      <td>NaN</td>\n",
       "    </tr>\n",
       "    <tr>\n",
       "      <th>3</th>\n",
       "      <td>Seeking revenge, an athletic young man joins t...</td>\n",
       "      <td>88.0</td>\n",
       "      <td>[Adventure, Action]</td>\n",
       "      <td>A nobleman vows to avenge the death of his fat...</td>\n",
       "      <td>[Albert Parker]</td>\n",
       "      <td>[Douglas Fairbanks (story), Jack Cunningham (a...</td>\n",
       "      <td>[USA]</td>\n",
       "      <td>https://m.media-amazon.com/images/M/MV5BMzU0ND...</td>\n",
       "      <td>None</td>\n",
       "      <td>[Billie Dove, Tempe Pigott, Donald Crisp, Sam ...</td>\n",
       "      <td>The Black Pirate</td>\n",
       "      <td>1</td>\n",
       "      <td>None</td>\n",
       "      <td>{'id': 16654, 'rating': 7.2, 'votes': 1146}</td>\n",
       "      <td>{'nominations': 0, 'text': '1 win.', 'wins': 1}</td>\n",
       "      <td>movie</td>\n",
       "      <td>NaN</td>\n",
       "    </tr>\n",
       "    <tr>\n",
       "      <th>4</th>\n",
       "      <td>An irresponsible young millionaire changes his...</td>\n",
       "      <td>58.0</td>\n",
       "      <td>[Action, Comedy, Romance]</td>\n",
       "      <td>The Uptown Boy, J. Harold Manners (Lloyd) is a...</td>\n",
       "      <td>[Sam Taylor]</td>\n",
       "      <td>[Ted Wilde (story), John Grey (story), Clyde B...</td>\n",
       "      <td>[USA]</td>\n",
       "      <td>https://m.media-amazon.com/images/M/MV5BMTcxMT...</td>\n",
       "      <td>[English]</td>\n",
       "      <td>[Harold Lloyd, Jobyna Ralston, Noah Young, Jim...</td>\n",
       "      <td>For Heaven's Sake</td>\n",
       "      <td>0</td>\n",
       "      <td>PASSED</td>\n",
       "      <td>{'id': 16895, 'rating': 7.6, 'votes': 918}</td>\n",
       "      <td>{'nominations': 1, 'text': '1 nomination.', 'w...</td>\n",
       "      <td>movie</td>\n",
       "      <td>NaN</td>\n",
       "    </tr>\n",
       "  </tbody>\n",
       "</table>\n",
       "</div>"
      ],
      "text/plain": [
       "                                                plot  runtime  \\\n",
       "0  Young Pauline is left a lot of money when her ...    199.0   \n",
       "1  A penniless young man tries to save an heiress...     22.0   \n",
       "2  Michael \"Beau\" Geste leaves England in disgrac...    101.0   \n",
       "3  Seeking revenge, an athletic young man joins t...     88.0   \n",
       "4  An irresponsible young millionaire changes his...     58.0   \n",
       "\n",
       "                       genres  \\\n",
       "0                    [Action]   \n",
       "1     [Comedy, Short, Action]   \n",
       "2  [Action, Adventure, Drama]   \n",
       "3         [Adventure, Action]   \n",
       "4   [Action, Comedy, Romance]   \n",
       "\n",
       "                                            fullplot  \\\n",
       "0  Young Pauline is left a lot of money when her ...   \n",
       "1  As a penniless man worries about how he will m...   \n",
       "2  Michael \"Beau\" Geste leaves England in disgrac...   \n",
       "3  A nobleman vows to avenge the death of his fat...   \n",
       "4  The Uptown Boy, J. Harold Manners (Lloyd) is a...   \n",
       "\n",
       "                              directors  \\\n",
       "0  [Louis J. Gasnier, Donald MacKenzie]   \n",
       "1       [Alfred J. Goulding, Hal Roach]   \n",
       "2                      [Herbert Brenon]   \n",
       "3                       [Albert Parker]   \n",
       "4                          [Sam Taylor]   \n",
       "\n",
       "                                             writers countries  \\\n",
       "0  [Charles W. Goddard (screenplay), Basil Dickey...     [USA]   \n",
       "1                             [H.M. Walker (titles)]     [USA]   \n",
       "2  [Herbert Brenon (adaptation), John Russell (ad...     [USA]   \n",
       "3  [Douglas Fairbanks (story), Jack Cunningham (a...     [USA]   \n",
       "4  [Ted Wilde (story), John Grey (story), Clyde B...     [USA]   \n",
       "\n",
       "                                              poster  languages  \\\n",
       "0  https://m.media-amazon.com/images/M/MV5BMzgxOD...  [English]   \n",
       "1  https://m.media-amazon.com/images/M/MV5BNzE1OW...  [English]   \n",
       "2                                               None  [English]   \n",
       "3  https://m.media-amazon.com/images/M/MV5BMzU0ND...       None   \n",
       "4  https://m.media-amazon.com/images/M/MV5BMTcxMT...  [English]   \n",
       "\n",
       "                                                cast                  title  \\\n",
       "0  [Pearl White, Crane Wilbur, Paul Panzer, Edwar...  The Perils of Pauline   \n",
       "1  [Harold Lloyd, Mildred Davis, 'Snub' Pollard, ...     From Hand to Mouth   \n",
       "2  [Ronald Colman, Neil Hamilton, Ralph Forbes, A...             Beau Geste   \n",
       "3  [Billie Dove, Tempe Pigott, Donald Crisp, Sam ...       The Black Pirate   \n",
       "4  [Harold Lloyd, Jobyna Ralston, Noah Young, Jim...      For Heaven's Sake   \n",
       "\n",
       "   num_mflix_comments   rated                                         imdb  \\\n",
       "0                   0    None    {'id': 4465, 'rating': 7.6, 'votes': 744}   \n",
       "1                   0    TV-G   {'id': 10146, 'rating': 7.0, 'votes': 639}   \n",
       "2                   0    None   {'id': 16634, 'rating': 6.9, 'votes': 222}   \n",
       "3                   1    None  {'id': 16654, 'rating': 7.2, 'votes': 1146}   \n",
       "4                   0  PASSED   {'id': 16895, 'rating': 7.6, 'votes': 918}   \n",
       "\n",
       "                                              awards   type  metacritic  \n",
       "0    {'nominations': 0, 'text': '1 win.', 'wins': 1}  movie         NaN  \n",
       "1  {'nominations': 1, 'text': '1 nomination.', 'w...  movie         NaN  \n",
       "2    {'nominations': 0, 'text': '1 win.', 'wins': 1}  movie         NaN  \n",
       "3    {'nominations': 0, 'text': '1 win.', 'wins': 1}  movie         NaN  \n",
       "4  {'nominations': 1, 'text': '1 nomination.', 'w...  movie         NaN  "
      ]
     },
     "execution_count": 20,
     "metadata": {},
     "output_type": "execute_result"
    }
   ],
   "source": [
    "# Remove data point where plot&fullplot column is missing\n",
    "\n",
    "dataset_df=dataset_df.dropna(subset=['plot','fullplot'])\n",
    "\n",
    "print(\"\\nNumber of missing values in each column after removal:\")\n",
    "\n",
    "print(dataset_df.isnull().sum())\n",
    "\n",
    "# Remove the plot_embedding from each data point in the dataset as we are going to create new embeddings with the new OpenAI embedding Model \"text-embedding-3-small\"\n",
    "\n",
    "dataset_df=dataset_df.drop(columns=['plot_embedding'])\n",
    "\n",
    "dataset_df.head()"
   ]
  },
  {
   "cell_type": "code",
   "execution_count": 21,
   "id": "3cbfde00",
   "metadata": {},
   "outputs": [
    {
     "data": {
      "text/plain": [
       "(1452, 17)"
      ]
     },
     "execution_count": 21,
     "metadata": {},
     "output_type": "execute_result"
    }
   ],
   "source": [
    "dataset_df.shape"
   ]
  },
  {
   "cell_type": "code",
   "execution_count": 22,
   "id": "a356f729",
   "metadata": {},
   "outputs": [],
   "source": [
    "df = dataset_df.head(10)"
   ]
  },
  {
   "cell_type": "code",
   "execution_count": 23,
   "id": "6f391812",
   "metadata": {},
   "outputs": [
    {
     "data": {
      "text/plain": [
       "(10, 17)"
      ]
     },
     "execution_count": 23,
     "metadata": {},
     "output_type": "execute_result"
    }
   ],
   "source": [
    "df.shape"
   ]
  },
  {
   "cell_type": "code",
   "execution_count": 24,
   "id": "1c66c120-5af2-4ea2-bfe7-bcb7cab1adfe",
   "metadata": {},
   "outputs": [],
   "source": [
    "from llama_index.core.settings import Settings\n",
    "from llama_index.llms.openai import OpenAI\n",
    "from llama_index.embeddings.openai import OpenAIEmbedding\n",
    "\n",
    "embed_model=OpenAIEmbedding(model=\"text-embedding-3-small\",dimensions=256)\n",
    "\n",
    "llm=OpenAI()\n",
    "\n",
    "Settings.llm=llm\n",
    "\n",
    "Settings.embed_model=embed_model\n",
    "\n",
    "import json\n",
    "from llama_index.core import Document\n",
    "from llama_index.core.schema import MetadataMode\n",
    "\n",
    "# Convert the DataFrame to a JSON string representation\n",
    "documents_json = df.to_json(orient='records')\n",
    "# Load the JSON string into a Python list of dictionaries\n",
    "documents_list = json.loads(documents_json)"
   ]
  },
  {
   "cell_type": "code",
   "execution_count": 25,
   "id": "7e1cb550-c0aa-4b24-84f9-74224c48a75c",
   "metadata": {},
   "outputs": [
    {
     "name": "stdout",
     "output_type": "stream",
     "text": [
      "\n",
      "The LLM sees this: \n",
      " Metadata: plot=>Young Pauline is left a lot of money when her wealthy uncle dies. However, her uncle's secretary has been named as her guardian until she marries, at which time she will officially take ...\n",
      "runtime=>199.0\n",
      "genres=>[\"Action\"]\n",
      "directors=>[\"Louis J. Gasnier\", \"Donald MacKenzie\"]\n",
      "writers=>[\"Charles W. Goddard (screenplay)\", \"Basil Dickey (screenplay)\", \"Charles W. Goddard (novel)\", \"George B. Seitz\", \"Bertram Millhauser\"]\n",
      "countries=>[\"USA\"]\n",
      "poster=>https://m.media-amazon.com/images/M/MV5BMzgxODk1Mzk2Ml5BMl5BanBnXkFtZTgwMDg0NzkwMjE@._V1_SY1000_SX677_AL_.jpg\n",
      "languages=>[\"English\"]\n",
      "cast=>[\"Pearl White\", \"Crane Wilbur\", \"Paul Panzer\", \"Edward Jos\\u00e8\"]\n",
      "title=>The Perils of Pauline\n",
      "num_mflix_comments=>0\n",
      "rated=>None\n",
      "imdb=>{\"id\": 4465, \"rating\": 7.6, \"votes\": 744}\n",
      "awards=>{\"nominations\": 0, \"text\": \"1 win.\", \"wins\": 1}\n",
      "type=>movie\n",
      "-----\n",
      "Content: Young Pauline is left a lot of money when her wealthy uncle dies. However, her uncle's secretary has been named as her guardian until she marries, at which time she will officially take possession of her inheritance. Meanwhile, her \"guardian\" and his confederates constantly come up with schemes to get rid of Pauline so that he can get his hands on the money himself.\n",
      "\n",
      "The Embedding model sees this: \n",
      " Metadata: plot=>Young Pauline is left a lot of money when her wealthy uncle dies. However, her uncle's secretary has been named as her guardian until she marries, at which time she will officially take ...\n",
      "genres=>[\"Action\"]\n",
      "directors=>[\"Louis J. Gasnier\", \"Donald MacKenzie\"]\n",
      "writers=>[\"Charles W. Goddard (screenplay)\", \"Basil Dickey (screenplay)\", \"Charles W. Goddard (novel)\", \"George B. Seitz\", \"Bertram Millhauser\"]\n",
      "countries=>[\"USA\"]\n",
      "languages=>[\"English\"]\n",
      "cast=>[\"Pearl White\", \"Crane Wilbur\", \"Paul Panzer\", \"Edward Jos\\u00e8\"]\n",
      "title=>The Perils of Pauline\n",
      "imdb=>{\"id\": 4465, \"rating\": 7.6, \"votes\": 744}\n",
      "awards=>{\"nominations\": 0, \"text\": \"1 win.\", \"wins\": 1}\n",
      "type=>movie\n",
      "-----\n",
      "Content: Young Pauline is left a lot of money when her wealthy uncle dies. However, her uncle's secretary has been named as her guardian until she marries, at which time she will officially take possession of her inheritance. Meanwhile, her \"guardian\" and his confederates constantly come up with schemes to get rid of Pauline so that he can get his hands on the money himself.\n"
     ]
    }
   ],
   "source": [
    "llama_documents = []\n",
    "\n",
    "for document in documents_list:\n",
    "\n",
    "  # Value for metadata must be one of (str, int, float, None)\n",
    "  document[\"writers\"] = json.dumps(document[\"writers\"])\n",
    "  document[\"languages\"] = json.dumps(document[\"languages\"])\n",
    "  document[\"genres\"] = json.dumps(document[\"genres\"])\n",
    "  document[\"cast\"] = json.dumps(document[\"cast\"])\n",
    "  document[\"directors\"] = json.dumps(document[\"directors\"])\n",
    "  document[\"countries\"] = json.dumps(document[\"countries\"])\n",
    "  document[\"imdb\"] = json.dumps(document[\"imdb\"])\n",
    "  document[\"awards\"] = json.dumps(document[\"awards\"])\n",
    "\n",
    "\n",
    "  # Create a Document object with the text and excluded metadata for llm and embedding models\n",
    "  llama_document = Document(\n",
    "      text=document[\"fullplot\"],\n",
    "      metadata=document,\n",
    "      excluded_llm_metadata_keys=[\"fullplot\", \"metacritic\"],\n",
    "      excluded_embed_metadata_keys=[\"fullplot\", \"metacritic\", \"poster\", \"num_mflix_comments\", \"runtime\", \"rated\"],\n",
    "      metadata_template=\"{key}=>{value}\",\n",
    "      text_template=\"Metadata: {metadata_str}\\n-----\\nContent: {content}\",\n",
    "      )\n",
    "\n",
    "  llama_documents.append(llama_document)\n",
    "\n",
    "# Observing an example of what the LLM and Embedding model receive as input\n",
    "print(\n",
    "    \"\\nThe LLM sees this: \\n\",\n",
    "    llama_documents[0].get_content(metadata_mode=MetadataMode.LLM),\n",
    ")\n",
    "print(\n",
    "    \"\\nThe Embedding model sees this: \\n\",\n",
    "    llama_documents[0].get_content(metadata_mode=MetadataMode.EMBED),\n",
    ")"
   ]
  },
  {
   "cell_type": "code",
   "execution_count": 26,
   "id": "4c238c2e-c75f-498c-afc2-f0be910ec623",
   "metadata": {},
   "outputs": [
    {
     "data": {
      "text/plain": [
       "Document(id_='0a811736-4744-447f-8e91-b0bd4475fba8', embedding=None, metadata={'plot': \"Young Pauline is left a lot of money when her wealthy uncle dies. However, her uncle's secretary has been named as her guardian until she marries, at which time she will officially take ...\", 'runtime': 199.0, 'genres': '[\"Action\"]', 'fullplot': 'Young Pauline is left a lot of money when her wealthy uncle dies. However, her uncle\\'s secretary has been named as her guardian until she marries, at which time she will officially take possession of her inheritance. Meanwhile, her \"guardian\" and his confederates constantly come up with schemes to get rid of Pauline so that he can get his hands on the money himself.', 'directors': '[\"Louis J. Gasnier\", \"Donald MacKenzie\"]', 'writers': '[\"Charles W. Goddard (screenplay)\", \"Basil Dickey (screenplay)\", \"Charles W. Goddard (novel)\", \"George B. Seitz\", \"Bertram Millhauser\"]', 'countries': '[\"USA\"]', 'poster': 'https://m.media-amazon.com/images/M/MV5BMzgxODk1Mzk2Ml5BMl5BanBnXkFtZTgwMDg0NzkwMjE@._V1_SY1000_SX677_AL_.jpg', 'languages': '[\"English\"]', 'cast': '[\"Pearl White\", \"Crane Wilbur\", \"Paul Panzer\", \"Edward Jos\\\\u00e8\"]', 'title': 'The Perils of Pauline', 'num_mflix_comments': 0, 'rated': None, 'imdb': '{\"id\": 4465, \"rating\": 7.6, \"votes\": 744}', 'awards': '{\"nominations\": 0, \"text\": \"1 win.\", \"wins\": 1}', 'type': 'movie', 'metacritic': None}, excluded_embed_metadata_keys=['fullplot', 'metacritic', 'poster', 'num_mflix_comments', 'runtime', 'rated'], excluded_llm_metadata_keys=['fullplot', 'metacritic'], relationships={}, text='Young Pauline is left a lot of money when her wealthy uncle dies. However, her uncle\\'s secretary has been named as her guardian until she marries, at which time she will officially take possession of her inheritance. Meanwhile, her \"guardian\" and his confederates constantly come up with schemes to get rid of Pauline so that he can get his hands on the money himself.', mimetype='text/plain', start_char_idx=None, end_char_idx=None, text_template='Metadata: {metadata_str}\\n-----\\nContent: {content}', metadata_template='{key}=>{value}', metadata_seperator='\\n')"
      ]
     },
     "execution_count": 26,
     "metadata": {},
     "output_type": "execute_result"
    }
   ],
   "source": [
    "llama_documents[0]"
   ]
  },
  {
   "cell_type": "code",
   "execution_count": 27,
   "id": "95762a4d",
   "metadata": {},
   "outputs": [],
   "source": [
    "from llama_index.core.node_parser import SentenceSplitter\n",
    "import time\n",
    "import openai  \n",
    "from openai import OpenAI\n",
    "\n",
    "parser = SentenceSplitter()\n",
    "nodes = parser.get_nodes_from_documents(llama_documents)\n",
    "\n",
    "access_count = 0\n",
    "max_accesses = 3  # Limite de 3 acessos por minuto\n",
    "sleep_time = 20   # Tempo inicial de espera \n",
    "\n",
    "for node in nodes:\n",
    "    while True:\n",
    "        try:\n",
    "            if access_count >= max_accesses:\n",
    "                time.sleep(sleep_time)  # Espera o tempo determinado\n",
    "                access_count = 0  # Reseta contagem de acessos\n",
    "            \n",
    "            # Chamada para gerar a embedding\n",
    "            node_embedding = embed_model.get_text_embedding(\n",
    "                node.get_content(metadata_mode=\"all\")\n",
    "            )\n",
    "            node.embedding = node_embedding\n",
    "            access_count += 1\n",
    "            break  # Sai do loop while se a chamada for bem-sucedida\n",
    "\n",
    "        except openai.APIError as e:\n",
    "            # Handle API error, por exemplo, limite de taxa ou outros problemas\n",
    "            print(f\"OpenAI API retornou um erro: {e}. Aguardando {sleep_time} segundos...\")\n",
    "            time.sleep(sleep_time)  # Aguarda antes de tentar novamente\n",
    "            access_count = 0  # Reseta contagem de acessos para começar novo ciclo\n",
    "        except Exception as e:\n",
    "            # Handle generic errors\n",
    "            print(f\"Erro inesperado: {e}\")\n",
    "            break\n",
    "\n"
   ]
  },
  {
   "cell_type": "code",
   "execution_count": 32,
   "id": "e7d7a46a-d7c9-4726-bf64-86c448243835",
   "metadata": {},
   "outputs": [],
   "source": [
    "os.environ[\"URI\"] = getpass.getpass(\"URI:\")"
   ]
  },
  {
   "cell_type": "code",
   "execution_count": 37,
   "id": "580d13a1",
   "metadata": {},
   "outputs": [],
   "source": [
    "uri = getpass.getpass(\"URI: \")  \n"
   ]
  },
  {
   "cell_type": "code",
   "execution_count": 34,
   "id": "268a378f-d944-4114-87b7-e587012e3aaa",
   "metadata": {},
   "outputs": [
    {
     "name": "stdout",
     "output_type": "stream",
     "text": [
      "MongoDB cluster is reachable\n",
      "MongoClient(host=['ac-fx09sp5-shard-00-00.pnon21i.mongodb.net:27017', 'ac-fx09sp5-shard-00-02.pnon21i.mongodb.net:27017', 'ac-fx09sp5-shard-00-01.pnon21i.mongodb.net:27017'], document_class=dict, tz_aware=False, connect=True, retrywrites=True, w='majority', appname='myAtlasClusterEDU', tlsinsecure=True, authsource='admin', replicaset='atlas-mrk941-shard-0', tls=True, tlsallowinvalidcertificates=True, tlsdisableocspendpointcheck=True, tlsallowinvalidhostnames=True)\n"
     ]
    }
   ],
   "source": [
    "from pymongo.mongo_client import MongoClient\n",
    "from pymongo.errors import ConnectionFailure\n",
    "\n",
    "# Establishing connection\n",
    "try:\n",
    "    uri = os.environ[\"URI\"]\n",
    "    connect = MongoClient(uri)\n",
    "    print(\"MongoDB cluster is reachable\")\n",
    "    print(connect)\n",
    "except ConnectionFailure as e:\n",
    "    print(\"Could not connect to MongoDB\")\n",
    "    print(e)"
   ]
  },
  {
   "cell_type": "code",
   "execution_count": 41,
   "id": "fc26a1c5",
   "metadata": {},
   "outputs": [
    {
     "name": "stdout",
     "output_type": "stream",
     "text": [
      "Pinged your deployment. You successfully connected to MongoDB!\n"
     ]
    }
   ],
   "source": [
    "from pymongo.mongo_client import MongoClient\n",
    "from pymongo.errors import ConnectionFailure\n",
    "from pymongo.server_api import ServerApi\n",
    "\n",
    "# Create a new client and connect to the server\n",
    "client = MongoClient(uri)\n",
    "# Send a ping to confirm a successful connection\n",
    "try:\n",
    "    client.admin.command('ping')\n",
    "    print(\"Pinged your deployment. You successfully connected to MongoDB!\")\n",
    "except Exception as e:\n",
    "    print(e)"
   ]
  },
  {
   "cell_type": "code",
   "execution_count": 42,
   "id": "8b9b056d-3c60-4b17-a7d6-d27000a5fd8d",
   "metadata": {},
   "outputs": [],
   "source": [
    "mongo_client = MongoClient(uri)\n",
    "\n",
    "DB_NAME=\"movies\"\n",
    "COLLECTION_NAME=\"movies_records\"\n",
    "\n",
    "db = mongo_client[DB_NAME]\n",
    "collection = db[COLLECTION_NAME]"
   ]
  },
  {
   "cell_type": "code",
   "execution_count": 43,
   "id": "40501841-84fe-4ca2-86ce-7a10f711d1ed",
   "metadata": {},
   "outputs": [
    {
     "data": {
      "text/plain": [
       "['205f7d2c-d8dd-4a85-a26f-354a6ef3b303',\n",
       " '389a10c7-89a3-446f-859a-a050eac803f5',\n",
       " 'e6b72593-61b7-4e64-a6ee-ba6072cdd669',\n",
       " '0505f8d8-e7fd-407f-b727-a9d3b34e584c',\n",
       " '8b84ee79-81fa-4cfc-bca7-ecfae9cc45cb',\n",
       " '2db02c3e-abcb-41b3-832e-c0194371c33c',\n",
       " '60761eac-13b8-424c-b68e-61203929a5f2',\n",
       " '58cf7a14-42bd-4b2f-ab51-c3c8e089380c',\n",
       " '0e7e8f50-0732-410f-b92f-ccd350ed90c2',\n",
       " 'e56abad0-2994-4429-aba7-0af9b718ba3c']"
      ]
     },
     "execution_count": 43,
     "metadata": {},
     "output_type": "execute_result"
    }
   ],
   "source": [
    "from llama_index.vector_stores.mongodb import MongoDBAtlasVectorSearch\n",
    "\n",
    "vector_store.add(nodes)"
   ]
  },
  {
   "cell_type": "code",
   "execution_count": 46,
   "id": "3748c3db-7f7c-4de6-ac4f-2184520d1a5b",
   "metadata": {},
   "outputs": [
    {
     "data": {
      "text/markdown": [
       "**`Final Response:`** \"From Hand to Mouth\" would be a suitable romantic movie for the Christmas season. The film's heartwarming story of a penniless man helping an innocent young heiress, along with themes of kindness and generosity, align well with the spirit of Christmas. The movie's message of repaying kindness and the bond formed between the characters make it a charming choice for the holiday season."
      ],
      "text/plain": [
       "<IPython.core.display.Markdown object>"
      ]
     },
     "metadata": {},
     "output_type": "display_data"
    },
    {
     "name": "stdout",
     "output_type": "stream",
     "text": [
      "[NodeWithScore(node=TextNode(id_='8b84ee79-81fa-4cfc-bca7-ecfae9cc45cb', embedding=None, metadata={'plot': 'An irresponsible young millionaire changes his tune when he falls for the daughter of a downtown minister.', 'runtime': 58.0, 'genres': '[\"Action\", \"Comedy\", \"Romance\"]', 'fullplot': \"The Uptown Boy, J. Harold Manners (Lloyd) is a millionaire playboy who falls for the Downtown Girl, Hope (Ralston) who works in Brother Paul's (Weigel) mission. In order to build up attendance, and win Hope's attention, Harold runs through town causing trouble, and winds up with a crowd chasing him right into the mission. He eventually wins the girl and they marry, but not without some interference from his high-brow friends.\", 'directors': '[\"Sam Taylor\"]', 'writers': '[\"Ted Wilde (story)\", \"John Grey (story)\", \"Clyde Bruckman (story)\", \"Ralph Spence (titles)\"]', 'countries': '[\"USA\"]', 'poster': 'https://m.media-amazon.com/images/M/MV5BMTcxMTEwMTIzNl5BMl5BanBnXkFtZTgwMzYzODYwMjE@._V1_SY1000_SX677_AL_.jpg', 'languages': '[\"English\"]', 'cast': '[\"Harold Lloyd\", \"Jobyna Ralston\", \"Noah Young\", \"Jim Mason\"]', 'title': \"For Heaven's Sake\", 'num_mflix_comments': 0, 'rated': 'PASSED', 'imdb': '{\"id\": 16895, \"rating\": 7.6, \"votes\": 918}', 'awards': '{\"nominations\": 1, \"text\": \"1 nomination.\", \"wins\": 0}', 'type': 'movie', 'metacritic': None}, excluded_embed_metadata_keys=['fullplot', 'metacritic', 'poster', 'num_mflix_comments', 'runtime', 'rated'], excluded_llm_metadata_keys=['fullplot', 'metacritic'], relationships={<NodeRelationship.SOURCE: '1'>: RelatedNodeInfo(node_id='9e93d6c2-28a4-43ee-8ef4-091fa5b5c3e3', node_type=<ObjectType.DOCUMENT: '4'>, metadata={'plot': 'An irresponsible young millionaire changes his tune when he falls for the daughter of a downtown minister.', 'runtime': 58.0, 'genres': '[\"Action\", \"Comedy\", \"Romance\"]', 'fullplot': \"The Uptown Boy, J. Harold Manners (Lloyd) is a millionaire playboy who falls for the Downtown Girl, Hope (Ralston) who works in Brother Paul's (Weigel) mission. In order to build up attendance, and win Hope's attention, Harold runs through town causing trouble, and winds up with a crowd chasing him right into the mission. He eventually wins the girl and they marry, but not without some interference from his high-brow friends.\", 'directors': '[\"Sam Taylor\"]', 'writers': '[\"Ted Wilde (story)\", \"John Grey (story)\", \"Clyde Bruckman (story)\", \"Ralph Spence (titles)\"]', 'countries': '[\"USA\"]', 'poster': 'https://m.media-amazon.com/images/M/MV5BMTcxMTEwMTIzNl5BMl5BanBnXkFtZTgwMzYzODYwMjE@._V1_SY1000_SX677_AL_.jpg', 'languages': '[\"English\"]', 'cast': '[\"Harold Lloyd\", \"Jobyna Ralston\", \"Noah Young\", \"Jim Mason\"]', 'title': \"For Heaven's Sake\", 'num_mflix_comments': 0, 'rated': 'PASSED', 'imdb': '{\"id\": 16895, \"rating\": 7.6, \"votes\": 918}', 'awards': '{\"nominations\": 1, \"text\": \"1 nomination.\", \"wins\": 0}', 'type': 'movie', 'metacritic': None}, hash='7cf51029600fa210717dd820c3fa3c859f6ff46b19fcb761d0667a23e0d54199')}, text=\"The Uptown Boy, J. Harold Manners (Lloyd) is a millionaire playboy who falls for the Downtown Girl, Hope (Ralston) who works in Brother Paul's (Weigel) mission. In order to build up attendance, and win Hope's attention, Harold runs through town causing trouble, and winds up with a crowd chasing him right into the mission. He eventually wins the girl and they marry, but not without some interference from his high-brow friends.\", mimetype='text/plain', start_char_idx=0, end_char_idx=429, text_template='Metadata: {metadata_str}\\n-----\\nContent: {content}', metadata_template='{key}=>{value}', metadata_seperator='\\n'), score=0.7198519706726074),\n",
      " NodeWithScore(node=TextNode(id_='389a10c7-89a3-446f-859a-a050eac803f5', embedding=None, metadata={'plot': 'A penniless young man tries to save an heiress from kidnappers and help her secure her inheritance.', 'runtime': 22.0, 'genres': '[\"Comedy\", \"Short\", \"Action\"]', 'fullplot': \"As a penniless man worries about how he will manage to eat, he is joined by a young waif and her dog, who are in the same predicament. Meanwhile, across town a dishonest lawyer is working with a gang of criminals, trying to swindle an innocent young heiress out of her inheritance. As the heiress is on her way home from the lawyer's office, she notices the young man and the waif in the midst of their latest problem with the authorities, and she rescues them. Later on, the young man will have an unexpected opportunity to repay her for her kindness.\", 'directors': '[\"Alfred J. Goulding\", \"Hal Roach\"]', 'writers': '[\"H.M. Walker (titles)\"]', 'countries': '[\"USA\"]', 'poster': 'https://m.media-amazon.com/images/M/MV5BNzE1OWRlNDgtMTllNi00NTZiLWIyNTktYTk0MDY1ZWUwYTc5XkEyXkFqcGdeQXVyMjUxODE0MDY@._V1_SY1000_SX677_AL_.jpg', 'languages': '[\"English\"]', 'cast': '[\"Harold Lloyd\", \"Mildred Davis\", \"\\'Snub\\' Pollard\", \"Peggy Cartwright\"]', 'title': 'From Hand to Mouth', 'num_mflix_comments': 0, 'rated': 'TV-G', 'imdb': '{\"id\": 10146, \"rating\": 7.0, \"votes\": 639}', 'awards': '{\"nominations\": 1, \"text\": \"1 nomination.\", \"wins\": 0}', 'type': 'movie', 'metacritic': None}, excluded_embed_metadata_keys=['fullplot', 'metacritic', 'poster', 'num_mflix_comments', 'runtime', 'rated'], excluded_llm_metadata_keys=['fullplot', 'metacritic'], relationships={<NodeRelationship.SOURCE: '1'>: RelatedNodeInfo(node_id='b48d61e0-564e-4de8-aca4-4de7e7c7b029', node_type=<ObjectType.DOCUMENT: '4'>, metadata={'plot': 'A penniless young man tries to save an heiress from kidnappers and help her secure her inheritance.', 'runtime': 22.0, 'genres': '[\"Comedy\", \"Short\", \"Action\"]', 'fullplot': \"As a penniless man worries about how he will manage to eat, he is joined by a young waif and her dog, who are in the same predicament. Meanwhile, across town a dishonest lawyer is working with a gang of criminals, trying to swindle an innocent young heiress out of her inheritance. As the heiress is on her way home from the lawyer's office, she notices the young man and the waif in the midst of their latest problem with the authorities, and she rescues them. Later on, the young man will have an unexpected opportunity to repay her for her kindness.\", 'directors': '[\"Alfred J. Goulding\", \"Hal Roach\"]', 'writers': '[\"H.M. Walker (titles)\"]', 'countries': '[\"USA\"]', 'poster': 'https://m.media-amazon.com/images/M/MV5BNzE1OWRlNDgtMTllNi00NTZiLWIyNTktYTk0MDY1ZWUwYTc5XkEyXkFqcGdeQXVyMjUxODE0MDY@._V1_SY1000_SX677_AL_.jpg', 'languages': '[\"English\"]', 'cast': '[\"Harold Lloyd\", \"Mildred Davis\", \"\\'Snub\\' Pollard\", \"Peggy Cartwright\"]', 'title': 'From Hand to Mouth', 'num_mflix_comments': 0, 'rated': 'TV-G', 'imdb': '{\"id\": 10146, \"rating\": 7.0, \"votes\": 639}', 'awards': '{\"nominations\": 1, \"text\": \"1 nomination.\", \"wins\": 0}', 'type': 'movie', 'metacritic': None}, hash='bbad2606bc1eb3492a155ccddb3830bd220a2dc8f8be7edd057b6ea351114343')}, text=\"As a penniless man worries about how he will manage to eat, he is joined by a young waif and her dog, who are in the same predicament. Meanwhile, across town a dishonest lawyer is working with a gang of criminals, trying to swindle an innocent young heiress out of her inheritance. As the heiress is on her way home from the lawyer's office, she notices the young man and the waif in the midst of their latest problem with the authorities, and she rescues them. Later on, the young man will have an unexpected opportunity to repay her for her kindness.\", mimetype='text/plain', start_char_idx=0, end_char_idx=552, text_template='Metadata: {metadata_str}\\n-----\\nContent: {content}', metadata_template='{key}=>{value}', metadata_seperator='\\n'), score=0.7097673416137695),\n",
      " NodeWithScore(node=TextNode(id_='e56abad0-2994-4429-aba7-0af9b718ba3c', embedding=None, metadata={'plot': 'When earthy Dolly Portland is rejected by Captain Gaskell in favor of a socialite, she aids Jamesy McCardle, in league with Malay pirates, in his plot to seize his ship.', 'runtime': 87.0, 'genres': '[\"Action\", \"Drama\", \"Adventure\"]', 'fullplot': 'Dynamic Alan Gaskell captains a ship bound from Hong Kong to Singapore. Gaskell tries to turn over a new leaf from his hard-drinking lifestyle after becoming attached to a refined high class English lady, Sybil Barclay. His former girlfriend Dolly is extremely jealous of the budding relationship and tries hard to get the Captain back. He is apparently unimpressed with her loud, obnoxious, and uncivilized manners, even though she is extremely beautiful. After a temporary take over of the ship by gold-seeking Asian pirates, Captain Gaskell must deal with the fact that Dolly and her drinking pal, Jamesey MacArdle, are implicated in the crime.', 'directors': '[\"Tay Garnett\"]', 'writers': '[\"Jules Furthman (screen play)\", \"James Kevin McGuinness (screen play)\", \"Crosbie Garstin (from the book by)\"]', 'countries': '[\"USA\"]', 'poster': 'https://m.media-amazon.com/images/M/MV5BMTgxMDg2MzE3MV5BMl5BanBnXkFtZTgwOTM5MjIyMjE@._V1_SY1000_SX677_AL_.jpg', 'languages': '[\"English\"]', 'cast': '[\"Clark Gable\", \"Jean Harlow\", \"Wallace Beery\", \"Lewis Stone\"]', 'title': 'China Seas', 'num_mflix_comments': 2, 'rated': 'PASSED', 'imdb': '{\"id\": 26205, \"rating\": 7.0, \"votes\": 1518}', 'awards': '{\"nominations\": 1, \"text\": \"1 nomination.\", \"wins\": 0}', 'type': 'movie', 'metacritic': None}, excluded_embed_metadata_keys=['fullplot', 'metacritic', 'poster', 'num_mflix_comments', 'runtime', 'rated'], excluded_llm_metadata_keys=['fullplot', 'metacritic'], relationships={<NodeRelationship.SOURCE: '1'>: RelatedNodeInfo(node_id='52f5918e-217b-4811-8fd8-bbfa433d35f0', node_type=<ObjectType.DOCUMENT: '4'>, metadata={'plot': 'When earthy Dolly Portland is rejected by Captain Gaskell in favor of a socialite, she aids Jamesy McCardle, in league with Malay pirates, in his plot to seize his ship.', 'runtime': 87.0, 'genres': '[\"Action\", \"Drama\", \"Adventure\"]', 'fullplot': 'Dynamic Alan Gaskell captains a ship bound from Hong Kong to Singapore. Gaskell tries to turn over a new leaf from his hard-drinking lifestyle after becoming attached to a refined high class English lady, Sybil Barclay. His former girlfriend Dolly is extremely jealous of the budding relationship and tries hard to get the Captain back. He is apparently unimpressed with her loud, obnoxious, and uncivilized manners, even though she is extremely beautiful. After a temporary take over of the ship by gold-seeking Asian pirates, Captain Gaskell must deal with the fact that Dolly and her drinking pal, Jamesey MacArdle, are implicated in the crime.', 'directors': '[\"Tay Garnett\"]', 'writers': '[\"Jules Furthman (screen play)\", \"James Kevin McGuinness (screen play)\", \"Crosbie Garstin (from the book by)\"]', 'countries': '[\"USA\"]', 'poster': 'https://m.media-amazon.com/images/M/MV5BMTgxMDg2MzE3MV5BMl5BanBnXkFtZTgwOTM5MjIyMjE@._V1_SY1000_SX677_AL_.jpg', 'languages': '[\"English\"]', 'cast': '[\"Clark Gable\", \"Jean Harlow\", \"Wallace Beery\", \"Lewis Stone\"]', 'title': 'China Seas', 'num_mflix_comments': 2, 'rated': 'PASSED', 'imdb': '{\"id\": 26205, \"rating\": 7.0, \"votes\": 1518}', 'awards': '{\"nominations\": 1, \"text\": \"1 nomination.\", \"wins\": 0}', 'type': 'movie', 'metacritic': None}, hash='725a55309aedf467e958a3151f06075874188f6e908470503c81ada6336988dc')}, text='Dynamic Alan Gaskell captains a ship bound from Hong Kong to Singapore. Gaskell tries to turn over a new leaf from his hard-drinking lifestyle after becoming attached to a refined high class English lady, Sybil Barclay. His former girlfriend Dolly is extremely jealous of the budding relationship and tries hard to get the Captain back. He is apparently unimpressed with her loud, obnoxious, and uncivilized manners, even though she is extremely beautiful. After a temporary take over of the ship by gold-seeking Asian pirates, Captain Gaskell must deal with the fact that Dolly and her drinking pal, Jamesey MacArdle, are implicated in the crime.', mimetype='text/plain', start_char_idx=0, end_char_idx=647, text_template='Metadata: {metadata_str}\\n-----\\nContent: {content}', metadata_template='{key}=>{value}', metadata_seperator='\\n'), score=0.7044569849967957)]\n"
     ]
    }
   ],
   "source": [
    "import pprint\n",
    "from llama_index.core.response.notebook_utils import display_response\n",
    "from llama_index.core import VectorStoreIndex\n",
    "\n",
    "index = VectorStoreIndex.from_vector_store(vector_store)\n",
    "\n",
    "query_engine = index.as_query_engine(similarity_top_k=3)\n",
    "query = \"Recommend a romantic movie suitable for the christmas season and justify your selecton\"\n",
    "response = query_engine.query(query)\n",
    "display_response(response)\n",
    "pprint.pprint(response.source_nodes)\n"
   ]
  },
  {
   "cell_type": "code",
   "execution_count": null,
   "id": "1f3662e1",
   "metadata": {},
   "outputs": [],
   "source": []
  }
 ],
 "metadata": {
  "kernelspec": {
   "display_name": "Python 3 (ipykernel)",
   "language": "python",
   "name": "python3"
  },
  "language_info": {
   "codemirror_mode": {
    "name": "ipython",
    "version": 3
   },
   "file_extension": ".py",
   "mimetype": "text/x-python",
   "name": "python",
   "nbconvert_exporter": "python",
   "pygments_lexer": "ipython3",
   "version": "3.12.1"
  }
 },
 "nbformat": 4,
 "nbformat_minor": 5
}
