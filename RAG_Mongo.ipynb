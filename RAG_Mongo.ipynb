{
 "cells": [
  {
   "cell_type": "markdown",
   "id": "90a5b0c5",
   "metadata": {},
   "source": [
    "# RAG com LlamaIndex, OpenAI e banco de dados vetorial MongoDB"
   ]
  },
  {
   "cell_type": "markdown",
   "id": "6f9fe8c1",
   "metadata": {},
   "source": [
    "Este notebook implementa um sistema RAG completo utilizando o stack de IA `POLM` (Python, OpenAI, LlamaIndex, MongoDB). O stack de IA, também chamado de GenAI stack, é composto por modelos, bancos de dados, bibliotecas e frameworks que permitem a construção de aplicações modernas com capacidades de IA generativa.\n",
    "\n",
    "Neste projeto, utilizamos o modelo `text-embedding-3-small` da `OpenAI` para gerar embeddings, o `LlamaIndex` como estrutura de orquestração, e o `MongoDB`, que atua tanto como banco de dados operacional quanto como armazenamento vetorial.\n"
   ]
  },
  {
   "cell_type": "markdown",
   "id": "f29953f6",
   "metadata": {},
   "source": [
    "### Estrutura do Projeto:\n",
    "1. Carregamento do Dataset: O conjunto de dados é carregado a partir do `Hugging Face`.\n",
    "2. Geração de Embeddings: Embeddings são gerados utilizando o modelo de embeddings da `OpenAI`.\n",
    "3. Configuração do Banco de Dados Vetorial: Um banco de dados vetorial é configurado no `MongoDB` para armazenar os embeddings.\n",
    "4. Estabelecimento de Conexão: Uma conexão segura é estabelecida com o banco de dados `MongoDB`.\n",
    "5. Criação de Índice de Busca Vetorial: Um índice de busca vetorial é criado para permitir consultas eficientes."
   ]
  },
  {
   "cell_type": "markdown",
   "id": "323e4e36",
   "metadata": {},
   "source": [
    "### Bibliotecas Necessárias:\n",
    "\n",
    "`LlamaIndex`: Framework de dados que facilita a integração de fontes de dados (arquivos, PDFs, sites) com LLMs como OpenAI e Cohere e LLMs de código aberto (como Llama).\n",
    "\n",
    "`LlamaIndex` para `MongoDB`: Extensão do LlamaIndex que fornece métodos para conectar e interagir com o MongoDB Atlas.\n",
    "\n",
    "`LlamaIndex` para `OpenAI`: Extensão do LlamaIndex que inclui os métodos necessários para acessar os modelos de embeddings da OpenAI.\n",
    "\n",
    "`PyMongo`: Biblioteca Python utilizada para conectar-se ao MongoDB, realizar consultas em coleções e manipular documentos.\n",
    "\n",
    "`Hugging Face datasets`: biblioteca Hugging Face que contém varios datasets prontos para uso.\n",
    "\n",
    "`Pandas`:  para processamento e análise eficientes de dados tabulares usando Python."
   ]
  },
  {
   "cell_type": "code",
   "execution_count": null,
   "id": "fcb87f2a",
   "metadata": {},
   "outputs": [],
   "source": [
    "%pip install llama-index\n",
    "%pip install llama-index-vector-stores-mongodb\n",
    "%pip install llama-index-embeddings-openai\n",
    "%pip install pymongo\n",
    "%pip install datasets\n",
    "%pip install pandas\n"
   ]
  },
  {
   "cell_type": "markdown",
   "id": "66b54876",
   "metadata": {},
   "source": [
    "Utilizamos as bibliotecas `getpass` e `os` para armazenar a chave da OpenAI de forma segura, sem que ela seja exibida na tela."
   ]
  },
  {
   "cell_type": "code",
   "execution_count": 1,
   "id": "c58a4d39-561d-4112-b6a7-ceb5f57a958a",
   "metadata": {},
   "outputs": [],
   "source": [
    "import getpass\n",
    "import os"
   ]
  },
  {
   "cell_type": "code",
   "execution_count": 2,
   "id": "1020727d-ebd2-4224-ad73-19ecc0961bfd",
   "metadata": {},
   "outputs": [],
   "source": [
    "os.environ[\"OPENAI_API_KEY\"] = getpass.getpass(\"OPEN API KEY:\")"
   ]
  },
  {
   "cell_type": "markdown",
   "id": "42d66a39",
   "metadata": {},
   "source": [
    "Baixamos os dados de filmes através de `Hugging face`:"
   ]
  },
  {
   "cell_type": "code",
   "execution_count": 3,
   "id": "2aaa1fa5-d488-475d-a556-3dea87cd32cc",
   "metadata": {},
   "outputs": [
    {
     "name": "stderr",
     "output_type": "stream",
     "text": [
      "/home/codespace/.python/current/lib/python3.12/site-packages/tqdm/auto.py:21: TqdmWarning: IProgress not found. Please update jupyter and ipywidgets. See https://ipywidgets.readthedocs.io/en/stable/user_install.html\n",
      "  from .autonotebook import tqdm as notebook_tqdm\n"
     ]
    }
   ],
   "source": [
    "from datasets import load_dataset\n",
    "import pandas as pd\n",
    "\n",
    "# https://huggingface.co/datasets/AIatMongoDB/embedded_movies\n",
    "\n",
    "ds = load_dataset(\"MongoDB/embedded_movies\")\n"
   ]
  },
  {
   "cell_type": "code",
   "execution_count": 4,
   "id": "7c8bd6db-62f6-472f-a8c6-896789d7bd45",
   "metadata": {},
   "outputs": [
    {
     "data": {
      "text/html": [
       "<div>\n",
       "<style scoped>\n",
       "    .dataframe tbody tr th:only-of-type {\n",
       "        vertical-align: middle;\n",
       "    }\n",
       "\n",
       "    .dataframe tbody tr th {\n",
       "        vertical-align: top;\n",
       "    }\n",
       "\n",
       "    .dataframe thead th {\n",
       "        text-align: right;\n",
       "    }\n",
       "</style>\n",
       "<table border=\"1\" class=\"dataframe\">\n",
       "  <thead>\n",
       "    <tr style=\"text-align: right;\">\n",
       "      <th></th>\n",
       "      <th>plot</th>\n",
       "      <th>runtime</th>\n",
       "      <th>genres</th>\n",
       "      <th>fullplot</th>\n",
       "      <th>directors</th>\n",
       "      <th>writers</th>\n",
       "      <th>countries</th>\n",
       "      <th>poster</th>\n",
       "      <th>languages</th>\n",
       "      <th>cast</th>\n",
       "      <th>title</th>\n",
       "      <th>num_mflix_comments</th>\n",
       "      <th>rated</th>\n",
       "      <th>imdb</th>\n",
       "      <th>awards</th>\n",
       "      <th>type</th>\n",
       "      <th>metacritic</th>\n",
       "      <th>plot_embedding</th>\n",
       "    </tr>\n",
       "  </thead>\n",
       "  <tbody>\n",
       "    <tr>\n",
       "      <th>0</th>\n",
       "      <td>Young Pauline is left a lot of money when her ...</td>\n",
       "      <td>199.0</td>\n",
       "      <td>[Action]</td>\n",
       "      <td>Young Pauline is left a lot of money when her ...</td>\n",
       "      <td>[Louis J. Gasnier, Donald MacKenzie]</td>\n",
       "      <td>[Charles W. Goddard (screenplay), Basil Dickey...</td>\n",
       "      <td>[USA]</td>\n",
       "      <td>https://m.media-amazon.com/images/M/MV5BMzgxOD...</td>\n",
       "      <td>[English]</td>\n",
       "      <td>[Pearl White, Crane Wilbur, Paul Panzer, Edwar...</td>\n",
       "      <td>The Perils of Pauline</td>\n",
       "      <td>0</td>\n",
       "      <td>None</td>\n",
       "      <td>{'id': 4465, 'rating': 7.6, 'votes': 744}</td>\n",
       "      <td>{'nominations': 0, 'text': '1 win.', 'wins': 1}</td>\n",
       "      <td>movie</td>\n",
       "      <td>NaN</td>\n",
       "      <td>[0.0007293965299999999, -0.026834568000000003,...</td>\n",
       "    </tr>\n",
       "    <tr>\n",
       "      <th>1</th>\n",
       "      <td>A penniless young man tries to save an heiress...</td>\n",
       "      <td>22.0</td>\n",
       "      <td>[Comedy, Short, Action]</td>\n",
       "      <td>As a penniless man worries about how he will m...</td>\n",
       "      <td>[Alfred J. Goulding, Hal Roach]</td>\n",
       "      <td>[H.M. Walker (titles)]</td>\n",
       "      <td>[USA]</td>\n",
       "      <td>https://m.media-amazon.com/images/M/MV5BNzE1OW...</td>\n",
       "      <td>[English]</td>\n",
       "      <td>[Harold Lloyd, Mildred Davis, 'Snub' Pollard, ...</td>\n",
       "      <td>From Hand to Mouth</td>\n",
       "      <td>0</td>\n",
       "      <td>TV-G</td>\n",
       "      <td>{'id': 10146, 'rating': 7.0, 'votes': 639}</td>\n",
       "      <td>{'nominations': 1, 'text': '1 nomination.', 'w...</td>\n",
       "      <td>movie</td>\n",
       "      <td>NaN</td>\n",
       "      <td>[-0.022837115, -0.022941574000000003, 0.014937...</td>\n",
       "    </tr>\n",
       "    <tr>\n",
       "      <th>2</th>\n",
       "      <td>Michael \"Beau\" Geste leaves England in disgrac...</td>\n",
       "      <td>101.0</td>\n",
       "      <td>[Action, Adventure, Drama]</td>\n",
       "      <td>Michael \"Beau\" Geste leaves England in disgrac...</td>\n",
       "      <td>[Herbert Brenon]</td>\n",
       "      <td>[Herbert Brenon (adaptation), John Russell (ad...</td>\n",
       "      <td>[USA]</td>\n",
       "      <td>None</td>\n",
       "      <td>[English]</td>\n",
       "      <td>[Ronald Colman, Neil Hamilton, Ralph Forbes, A...</td>\n",
       "      <td>Beau Geste</td>\n",
       "      <td>0</td>\n",
       "      <td>None</td>\n",
       "      <td>{'id': 16634, 'rating': 6.9, 'votes': 222}</td>\n",
       "      <td>{'nominations': 0, 'text': '1 win.', 'wins': 1}</td>\n",
       "      <td>movie</td>\n",
       "      <td>NaN</td>\n",
       "      <td>[0.00023330492999999998, -0.028511643000000003...</td>\n",
       "    </tr>\n",
       "    <tr>\n",
       "      <th>3</th>\n",
       "      <td>Seeking revenge, an athletic young man joins t...</td>\n",
       "      <td>88.0</td>\n",
       "      <td>[Adventure, Action]</td>\n",
       "      <td>A nobleman vows to avenge the death of his fat...</td>\n",
       "      <td>[Albert Parker]</td>\n",
       "      <td>[Douglas Fairbanks (story), Jack Cunningham (a...</td>\n",
       "      <td>[USA]</td>\n",
       "      <td>https://m.media-amazon.com/images/M/MV5BMzU0ND...</td>\n",
       "      <td>None</td>\n",
       "      <td>[Billie Dove, Tempe Pigott, Donald Crisp, Sam ...</td>\n",
       "      <td>The Black Pirate</td>\n",
       "      <td>1</td>\n",
       "      <td>None</td>\n",
       "      <td>{'id': 16654, 'rating': 7.2, 'votes': 1146}</td>\n",
       "      <td>{'nominations': 0, 'text': '1 win.', 'wins': 1}</td>\n",
       "      <td>movie</td>\n",
       "      <td>NaN</td>\n",
       "      <td>[-0.005927917, -0.033394486, 0.0015323418, -0....</td>\n",
       "    </tr>\n",
       "    <tr>\n",
       "      <th>4</th>\n",
       "      <td>An irresponsible young millionaire changes his...</td>\n",
       "      <td>58.0</td>\n",
       "      <td>[Action, Comedy, Romance]</td>\n",
       "      <td>The Uptown Boy, J. Harold Manners (Lloyd) is a...</td>\n",
       "      <td>[Sam Taylor]</td>\n",
       "      <td>[Ted Wilde (story), John Grey (story), Clyde B...</td>\n",
       "      <td>[USA]</td>\n",
       "      <td>https://m.media-amazon.com/images/M/MV5BMTcxMT...</td>\n",
       "      <td>[English]</td>\n",
       "      <td>[Harold Lloyd, Jobyna Ralston, Noah Young, Jim...</td>\n",
       "      <td>For Heaven's Sake</td>\n",
       "      <td>0</td>\n",
       "      <td>PASSED</td>\n",
       "      <td>{'id': 16895, 'rating': 7.6, 'votes': 918}</td>\n",
       "      <td>{'nominations': 1, 'text': '1 nomination.', 'w...</td>\n",
       "      <td>movie</td>\n",
       "      <td>NaN</td>\n",
       "      <td>[-0.0059373598, -0.026604708, -0.0070914757000...</td>\n",
       "    </tr>\n",
       "  </tbody>\n",
       "</table>\n",
       "</div>"
      ],
      "text/plain": [
       "                                                plot  runtime  \\\n",
       "0  Young Pauline is left a lot of money when her ...    199.0   \n",
       "1  A penniless young man tries to save an heiress...     22.0   \n",
       "2  Michael \"Beau\" Geste leaves England in disgrac...    101.0   \n",
       "3  Seeking revenge, an athletic young man joins t...     88.0   \n",
       "4  An irresponsible young millionaire changes his...     58.0   \n",
       "\n",
       "                       genres  \\\n",
       "0                    [Action]   \n",
       "1     [Comedy, Short, Action]   \n",
       "2  [Action, Adventure, Drama]   \n",
       "3         [Adventure, Action]   \n",
       "4   [Action, Comedy, Romance]   \n",
       "\n",
       "                                            fullplot  \\\n",
       "0  Young Pauline is left a lot of money when her ...   \n",
       "1  As a penniless man worries about how he will m...   \n",
       "2  Michael \"Beau\" Geste leaves England in disgrac...   \n",
       "3  A nobleman vows to avenge the death of his fat...   \n",
       "4  The Uptown Boy, J. Harold Manners (Lloyd) is a...   \n",
       "\n",
       "                              directors  \\\n",
       "0  [Louis J. Gasnier, Donald MacKenzie]   \n",
       "1       [Alfred J. Goulding, Hal Roach]   \n",
       "2                      [Herbert Brenon]   \n",
       "3                       [Albert Parker]   \n",
       "4                          [Sam Taylor]   \n",
       "\n",
       "                                             writers countries  \\\n",
       "0  [Charles W. Goddard (screenplay), Basil Dickey...     [USA]   \n",
       "1                             [H.M. Walker (titles)]     [USA]   \n",
       "2  [Herbert Brenon (adaptation), John Russell (ad...     [USA]   \n",
       "3  [Douglas Fairbanks (story), Jack Cunningham (a...     [USA]   \n",
       "4  [Ted Wilde (story), John Grey (story), Clyde B...     [USA]   \n",
       "\n",
       "                                              poster  languages  \\\n",
       "0  https://m.media-amazon.com/images/M/MV5BMzgxOD...  [English]   \n",
       "1  https://m.media-amazon.com/images/M/MV5BNzE1OW...  [English]   \n",
       "2                                               None  [English]   \n",
       "3  https://m.media-amazon.com/images/M/MV5BMzU0ND...       None   \n",
       "4  https://m.media-amazon.com/images/M/MV5BMTcxMT...  [English]   \n",
       "\n",
       "                                                cast                  title  \\\n",
       "0  [Pearl White, Crane Wilbur, Paul Panzer, Edwar...  The Perils of Pauline   \n",
       "1  [Harold Lloyd, Mildred Davis, 'Snub' Pollard, ...     From Hand to Mouth   \n",
       "2  [Ronald Colman, Neil Hamilton, Ralph Forbes, A...             Beau Geste   \n",
       "3  [Billie Dove, Tempe Pigott, Donald Crisp, Sam ...       The Black Pirate   \n",
       "4  [Harold Lloyd, Jobyna Ralston, Noah Young, Jim...      For Heaven's Sake   \n",
       "\n",
       "   num_mflix_comments   rated                                         imdb  \\\n",
       "0                   0    None    {'id': 4465, 'rating': 7.6, 'votes': 744}   \n",
       "1                   0    TV-G   {'id': 10146, 'rating': 7.0, 'votes': 639}   \n",
       "2                   0    None   {'id': 16634, 'rating': 6.9, 'votes': 222}   \n",
       "3                   1    None  {'id': 16654, 'rating': 7.2, 'votes': 1146}   \n",
       "4                   0  PASSED   {'id': 16895, 'rating': 7.6, 'votes': 918}   \n",
       "\n",
       "                                              awards   type  metacritic  \\\n",
       "0    {'nominations': 0, 'text': '1 win.', 'wins': 1}  movie         NaN   \n",
       "1  {'nominations': 1, 'text': '1 nomination.', 'w...  movie         NaN   \n",
       "2    {'nominations': 0, 'text': '1 win.', 'wins': 1}  movie         NaN   \n",
       "3    {'nominations': 0, 'text': '1 win.', 'wins': 1}  movie         NaN   \n",
       "4  {'nominations': 1, 'text': '1 nomination.', 'w...  movie         NaN   \n",
       "\n",
       "                                      plot_embedding  \n",
       "0  [0.0007293965299999999, -0.026834568000000003,...  \n",
       "1  [-0.022837115, -0.022941574000000003, 0.014937...  \n",
       "2  [0.00023330492999999998, -0.028511643000000003...  \n",
       "3  [-0.005927917, -0.033394486, 0.0015323418, -0....  \n",
       "4  [-0.0059373598, -0.026604708, -0.0070914757000...  "
      ]
     },
     "execution_count": 4,
     "metadata": {},
     "output_type": "execute_result"
    }
   ],
   "source": [
    "# Convertemos para dataframe\n",
    "\n",
    "dataset_df=pd.DataFrame(ds['train'])\n",
    "\n",
    "dataset_df.head()"
   ]
  },
  {
   "cell_type": "code",
   "execution_count": 5,
   "id": "ca6c5974-d685-4f13-9df0-572af84e6127",
   "metadata": {},
   "outputs": [
    {
     "data": {
      "text/plain": [
       "(1500, 18)"
      ]
     },
     "execution_count": 5,
     "metadata": {},
     "output_type": "execute_result"
    }
   ],
   "source": [
    "dataset_df.shape"
   ]
  },
  {
   "cell_type": "code",
   "execution_count": 6,
   "id": "08418c1e-ef3e-433e-a17b-d2ec8cfa1e4f",
   "metadata": {},
   "outputs": [
    {
     "data": {
      "text/plain": [
       "Index(['plot', 'runtime', 'genres', 'fullplot', 'directors', 'writers',\n",
       "       'countries', 'poster', 'languages', 'cast', 'title',\n",
       "       'num_mflix_comments', 'rated', 'imdb', 'awards', 'type', 'metacritic',\n",
       "       'plot_embedding'],\n",
       "      dtype='object')"
      ]
     },
     "execution_count": 6,
     "metadata": {},
     "output_type": "execute_result"
    }
   ],
   "source": [
    "dataset_df.columns"
   ]
  },
  {
   "cell_type": "markdown",
   "id": "93a84cc6",
   "metadata": {},
   "source": [
    "O dataset contém informações de 1500 filmes, incluindo enredo (`plot`) e enredo completo (`fullplot`), são features que serão utilizados no processo de embeddings. Precisamos garantir que não contenham valores nulos. Além disso, vamos apagar `plot_embedding`, já que criaremos nossos próprios embeddings posteriormente."
   ]
  },
  {
   "cell_type": "code",
   "execution_count": 7,
   "id": "ee9dc69c-7d3d-4248-a6d6-21636086b9fe",
   "metadata": {},
   "outputs": [
    {
     "name": "stdout",
     "output_type": "stream",
     "text": [
      "\n",
      "Number of missing values in each column after removal:\n",
      "plot                    0\n",
      "runtime                14\n",
      "genres                  0\n",
      "fullplot                0\n",
      "directors              12\n",
      "writers                13\n",
      "countries               0\n",
      "poster                 78\n",
      "languages               1\n",
      "cast                    1\n",
      "title                   0\n",
      "num_mflix_comments      0\n",
      "rated                 279\n",
      "imdb                    0\n",
      "awards                  0\n",
      "type                    0\n",
      "metacritic            893\n",
      "plot_embedding          1\n",
      "dtype: int64\n"
     ]
    },
    {
     "data": {
      "text/html": [
       "<div>\n",
       "<style scoped>\n",
       "    .dataframe tbody tr th:only-of-type {\n",
       "        vertical-align: middle;\n",
       "    }\n",
       "\n",
       "    .dataframe tbody tr th {\n",
       "        vertical-align: top;\n",
       "    }\n",
       "\n",
       "    .dataframe thead th {\n",
       "        text-align: right;\n",
       "    }\n",
       "</style>\n",
       "<table border=\"1\" class=\"dataframe\">\n",
       "  <thead>\n",
       "    <tr style=\"text-align: right;\">\n",
       "      <th></th>\n",
       "      <th>plot</th>\n",
       "      <th>runtime</th>\n",
       "      <th>genres</th>\n",
       "      <th>fullplot</th>\n",
       "      <th>directors</th>\n",
       "      <th>writers</th>\n",
       "      <th>countries</th>\n",
       "      <th>poster</th>\n",
       "      <th>languages</th>\n",
       "      <th>cast</th>\n",
       "      <th>title</th>\n",
       "      <th>num_mflix_comments</th>\n",
       "      <th>rated</th>\n",
       "      <th>imdb</th>\n",
       "      <th>awards</th>\n",
       "      <th>type</th>\n",
       "      <th>metacritic</th>\n",
       "    </tr>\n",
       "  </thead>\n",
       "  <tbody>\n",
       "    <tr>\n",
       "      <th>0</th>\n",
       "      <td>Young Pauline is left a lot of money when her ...</td>\n",
       "      <td>199.0</td>\n",
       "      <td>[Action]</td>\n",
       "      <td>Young Pauline is left a lot of money when her ...</td>\n",
       "      <td>[Louis J. Gasnier, Donald MacKenzie]</td>\n",
       "      <td>[Charles W. Goddard (screenplay), Basil Dickey...</td>\n",
       "      <td>[USA]</td>\n",
       "      <td>https://m.media-amazon.com/images/M/MV5BMzgxOD...</td>\n",
       "      <td>[English]</td>\n",
       "      <td>[Pearl White, Crane Wilbur, Paul Panzer, Edwar...</td>\n",
       "      <td>The Perils of Pauline</td>\n",
       "      <td>0</td>\n",
       "      <td>None</td>\n",
       "      <td>{'id': 4465, 'rating': 7.6, 'votes': 744}</td>\n",
       "      <td>{'nominations': 0, 'text': '1 win.', 'wins': 1}</td>\n",
       "      <td>movie</td>\n",
       "      <td>NaN</td>\n",
       "    </tr>\n",
       "    <tr>\n",
       "      <th>1</th>\n",
       "      <td>A penniless young man tries to save an heiress...</td>\n",
       "      <td>22.0</td>\n",
       "      <td>[Comedy, Short, Action]</td>\n",
       "      <td>As a penniless man worries about how he will m...</td>\n",
       "      <td>[Alfred J. Goulding, Hal Roach]</td>\n",
       "      <td>[H.M. Walker (titles)]</td>\n",
       "      <td>[USA]</td>\n",
       "      <td>https://m.media-amazon.com/images/M/MV5BNzE1OW...</td>\n",
       "      <td>[English]</td>\n",
       "      <td>[Harold Lloyd, Mildred Davis, 'Snub' Pollard, ...</td>\n",
       "      <td>From Hand to Mouth</td>\n",
       "      <td>0</td>\n",
       "      <td>TV-G</td>\n",
       "      <td>{'id': 10146, 'rating': 7.0, 'votes': 639}</td>\n",
       "      <td>{'nominations': 1, 'text': '1 nomination.', 'w...</td>\n",
       "      <td>movie</td>\n",
       "      <td>NaN</td>\n",
       "    </tr>\n",
       "    <tr>\n",
       "      <th>2</th>\n",
       "      <td>Michael \"Beau\" Geste leaves England in disgrac...</td>\n",
       "      <td>101.0</td>\n",
       "      <td>[Action, Adventure, Drama]</td>\n",
       "      <td>Michael \"Beau\" Geste leaves England in disgrac...</td>\n",
       "      <td>[Herbert Brenon]</td>\n",
       "      <td>[Herbert Brenon (adaptation), John Russell (ad...</td>\n",
       "      <td>[USA]</td>\n",
       "      <td>None</td>\n",
       "      <td>[English]</td>\n",
       "      <td>[Ronald Colman, Neil Hamilton, Ralph Forbes, A...</td>\n",
       "      <td>Beau Geste</td>\n",
       "      <td>0</td>\n",
       "      <td>None</td>\n",
       "      <td>{'id': 16634, 'rating': 6.9, 'votes': 222}</td>\n",
       "      <td>{'nominations': 0, 'text': '1 win.', 'wins': 1}</td>\n",
       "      <td>movie</td>\n",
       "      <td>NaN</td>\n",
       "    </tr>\n",
       "    <tr>\n",
       "      <th>3</th>\n",
       "      <td>Seeking revenge, an athletic young man joins t...</td>\n",
       "      <td>88.0</td>\n",
       "      <td>[Adventure, Action]</td>\n",
       "      <td>A nobleman vows to avenge the death of his fat...</td>\n",
       "      <td>[Albert Parker]</td>\n",
       "      <td>[Douglas Fairbanks (story), Jack Cunningham (a...</td>\n",
       "      <td>[USA]</td>\n",
       "      <td>https://m.media-amazon.com/images/M/MV5BMzU0ND...</td>\n",
       "      <td>None</td>\n",
       "      <td>[Billie Dove, Tempe Pigott, Donald Crisp, Sam ...</td>\n",
       "      <td>The Black Pirate</td>\n",
       "      <td>1</td>\n",
       "      <td>None</td>\n",
       "      <td>{'id': 16654, 'rating': 7.2, 'votes': 1146}</td>\n",
       "      <td>{'nominations': 0, 'text': '1 win.', 'wins': 1}</td>\n",
       "      <td>movie</td>\n",
       "      <td>NaN</td>\n",
       "    </tr>\n",
       "    <tr>\n",
       "      <th>4</th>\n",
       "      <td>An irresponsible young millionaire changes his...</td>\n",
       "      <td>58.0</td>\n",
       "      <td>[Action, Comedy, Romance]</td>\n",
       "      <td>The Uptown Boy, J. Harold Manners (Lloyd) is a...</td>\n",
       "      <td>[Sam Taylor]</td>\n",
       "      <td>[Ted Wilde (story), John Grey (story), Clyde B...</td>\n",
       "      <td>[USA]</td>\n",
       "      <td>https://m.media-amazon.com/images/M/MV5BMTcxMT...</td>\n",
       "      <td>[English]</td>\n",
       "      <td>[Harold Lloyd, Jobyna Ralston, Noah Young, Jim...</td>\n",
       "      <td>For Heaven's Sake</td>\n",
       "      <td>0</td>\n",
       "      <td>PASSED</td>\n",
       "      <td>{'id': 16895, 'rating': 7.6, 'votes': 918}</td>\n",
       "      <td>{'nominations': 1, 'text': '1 nomination.', 'w...</td>\n",
       "      <td>movie</td>\n",
       "      <td>NaN</td>\n",
       "    </tr>\n",
       "  </tbody>\n",
       "</table>\n",
       "</div>"
      ],
      "text/plain": [
       "                                                plot  runtime  \\\n",
       "0  Young Pauline is left a lot of money when her ...    199.0   \n",
       "1  A penniless young man tries to save an heiress...     22.0   \n",
       "2  Michael \"Beau\" Geste leaves England in disgrac...    101.0   \n",
       "3  Seeking revenge, an athletic young man joins t...     88.0   \n",
       "4  An irresponsible young millionaire changes his...     58.0   \n",
       "\n",
       "                       genres  \\\n",
       "0                    [Action]   \n",
       "1     [Comedy, Short, Action]   \n",
       "2  [Action, Adventure, Drama]   \n",
       "3         [Adventure, Action]   \n",
       "4   [Action, Comedy, Romance]   \n",
       "\n",
       "                                            fullplot  \\\n",
       "0  Young Pauline is left a lot of money when her ...   \n",
       "1  As a penniless man worries about how he will m...   \n",
       "2  Michael \"Beau\" Geste leaves England in disgrac...   \n",
       "3  A nobleman vows to avenge the death of his fat...   \n",
       "4  The Uptown Boy, J. Harold Manners (Lloyd) is a...   \n",
       "\n",
       "                              directors  \\\n",
       "0  [Louis J. Gasnier, Donald MacKenzie]   \n",
       "1       [Alfred J. Goulding, Hal Roach]   \n",
       "2                      [Herbert Brenon]   \n",
       "3                       [Albert Parker]   \n",
       "4                          [Sam Taylor]   \n",
       "\n",
       "                                             writers countries  \\\n",
       "0  [Charles W. Goddard (screenplay), Basil Dickey...     [USA]   \n",
       "1                             [H.M. Walker (titles)]     [USA]   \n",
       "2  [Herbert Brenon (adaptation), John Russell (ad...     [USA]   \n",
       "3  [Douglas Fairbanks (story), Jack Cunningham (a...     [USA]   \n",
       "4  [Ted Wilde (story), John Grey (story), Clyde B...     [USA]   \n",
       "\n",
       "                                              poster  languages  \\\n",
       "0  https://m.media-amazon.com/images/M/MV5BMzgxOD...  [English]   \n",
       "1  https://m.media-amazon.com/images/M/MV5BNzE1OW...  [English]   \n",
       "2                                               None  [English]   \n",
       "3  https://m.media-amazon.com/images/M/MV5BMzU0ND...       None   \n",
       "4  https://m.media-amazon.com/images/M/MV5BMTcxMT...  [English]   \n",
       "\n",
       "                                                cast                  title  \\\n",
       "0  [Pearl White, Crane Wilbur, Paul Panzer, Edwar...  The Perils of Pauline   \n",
       "1  [Harold Lloyd, Mildred Davis, 'Snub' Pollard, ...     From Hand to Mouth   \n",
       "2  [Ronald Colman, Neil Hamilton, Ralph Forbes, A...             Beau Geste   \n",
       "3  [Billie Dove, Tempe Pigott, Donald Crisp, Sam ...       The Black Pirate   \n",
       "4  [Harold Lloyd, Jobyna Ralston, Noah Young, Jim...      For Heaven's Sake   \n",
       "\n",
       "   num_mflix_comments   rated                                         imdb  \\\n",
       "0                   0    None    {'id': 4465, 'rating': 7.6, 'votes': 744}   \n",
       "1                   0    TV-G   {'id': 10146, 'rating': 7.0, 'votes': 639}   \n",
       "2                   0    None   {'id': 16634, 'rating': 6.9, 'votes': 222}   \n",
       "3                   1    None  {'id': 16654, 'rating': 7.2, 'votes': 1146}   \n",
       "4                   0  PASSED   {'id': 16895, 'rating': 7.6, 'votes': 918}   \n",
       "\n",
       "                                              awards   type  metacritic  \n",
       "0    {'nominations': 0, 'text': '1 win.', 'wins': 1}  movie         NaN  \n",
       "1  {'nominations': 1, 'text': '1 nomination.', 'w...  movie         NaN  \n",
       "2    {'nominations': 0, 'text': '1 win.', 'wins': 1}  movie         NaN  \n",
       "3    {'nominations': 0, 'text': '1 win.', 'wins': 1}  movie         NaN  \n",
       "4  {'nominations': 1, 'text': '1 nomination.', 'w...  movie         NaN  "
      ]
     },
     "execution_count": 7,
     "metadata": {},
     "output_type": "execute_result"
    }
   ],
   "source": [
    "# Removemos valores ausentes nas colunas plot e fullplot \n",
    "\n",
    "dataset_df=dataset_df.dropna(subset=['plot','fullplot'])\n",
    "\n",
    "print(\"\\nNumber of missing values in each column after removal:\")\n",
    "\n",
    "print(dataset_df.isnull().sum())\n",
    "\n",
    "# Removemos a coluna plot_embedding \n",
    "\n",
    "dataset_df=dataset_df.drop(columns=['plot_embedding'])\n",
    "\n",
    "dataset_df.head()"
   ]
  },
  {
   "cell_type": "code",
   "execution_count": 8,
   "id": "3cbfde00",
   "metadata": {},
   "outputs": [
    {
     "data": {
      "text/plain": [
       "(1452, 17)"
      ]
     },
     "execution_count": 8,
     "metadata": {},
     "output_type": "execute_result"
    }
   ],
   "source": [
    "dataset_df.shape"
   ]
  },
  {
   "cell_type": "markdown",
   "id": "212b2082",
   "metadata": {},
   "source": [
    "Após a limpeza, o dataset contém 17 features e 1452 entradas. Para executar os próximos passos, é necessário ter acesso à API paga da OpenAI (no mínimo o tier 1). No nível gratuito da API, o modelo `text-embedding-3-small` permite 3000 tokens por minuto e um máximo de 200 solicitações por dia. No tier 1, não há limite diário de acessos. Como estou utilizando o acesso gratuito, vou reduzir o dataset para 100 entradas, a fim de não exceder o limite de 200 solicitações por dia."
   ]
  },
  {
   "cell_type": "code",
   "execution_count": 9,
   "id": "a356f729",
   "metadata": {},
   "outputs": [],
   "source": [
    "df = dataset_df.head(100)"
   ]
  },
  {
   "cell_type": "markdown",
   "id": "d4359842",
   "metadata": {},
   "source": [
    "Vamos configurar o ambiente para utilizar o LlamaIndex com o modelo de linguagem e embeddings da OpenAI. Usaremos a classe `OpenAIEmbedding`, que faz parte do módulo `llama_index.embeddings`, para gerar embeddings a partir de textos. A classe `OpenAIEmbedding` recebe dois parâmetros: o nome do modelo de embeddings (`text-embedding-3-small` no nosso caso) e a dimensão dos embeddings (256).\n",
    "\n",
    "Em seguida, converteremos nosso dataframe do Pandas para uma lista de dicionários no formato `JSON`, utilizando a biblioteca `json`. O argumento `orient='records'` indica que cada linha do dataframe será convertida em um dicionário, resultando em uma lista de dicionários."
   ]
  },
  {
   "cell_type": "code",
   "execution_count": 10,
   "id": "1c66c120-5af2-4ea2-bfe7-bcb7cab1adfe",
   "metadata": {},
   "outputs": [],
   "source": [
    "from llama_index.core.settings import Settings # Armazena as configurações globais para a execução dos modelos\n",
    "from llama_index.llms.openai import OpenAI\n",
    "from llama_index.embeddings.openai import OpenAIEmbedding\n",
    "\n",
    "embed_model=OpenAIEmbedding(model=\"text-embedding-3-small\",dimensions=256)\n",
    "\n",
    "llm=OpenAI()\n",
    "\n",
    "Settings.llm=llm\n",
    "\n",
    "Settings.embed_model=embed_model\n",
    "\n",
    "import json\n",
    "from llama_index.core import Document\n",
    "from llama_index.core.schema import MetadataMode\n",
    "\n",
    "# Convert the DataFrame to a JSON string representation\n",
    "documents_json = df.to_json(orient='records')\n",
    "# Load the JSON string into a Python list of dictionaries\n",
    "documents_list = json.loads(documents_json)"
   ]
  },
  {
   "cell_type": "markdown",
   "id": "839795ed",
   "metadata": {},
   "source": [
    "O próximo passo é converter cada dicionário em documentos manualmente. Os documentos no LlamaIndex contêm informações adicionais, como metadados, que são utilizadas no processamento e na ingestão em um pipeline de RAG."
   ]
  },
  {
   "cell_type": "code",
   "execution_count": 11,
   "id": "7e1cb550-c0aa-4b24-84f9-74224c48a75c",
   "metadata": {},
   "outputs": [
    {
     "name": "stdout",
     "output_type": "stream",
     "text": [
      "\n",
      "The LLM sees this: \n",
      " Metadata: plot=>Young Pauline is left a lot of money when her wealthy uncle dies. However, her uncle's secretary has been named as her guardian until she marries, at which time she will officially take ...\n",
      "runtime=>199.0\n",
      "genres=>[\"Action\"]\n",
      "directors=>[\"Louis J. Gasnier\", \"Donald MacKenzie\"]\n",
      "writers=>[\"Charles W. Goddard (screenplay)\", \"Basil Dickey (screenplay)\", \"Charles W. Goddard (novel)\", \"George B. Seitz\", \"Bertram Millhauser\"]\n",
      "countries=>[\"USA\"]\n",
      "poster=>https://m.media-amazon.com/images/M/MV5BMzgxODk1Mzk2Ml5BMl5BanBnXkFtZTgwMDg0NzkwMjE@._V1_SY1000_SX677_AL_.jpg\n",
      "languages=>[\"English\"]\n",
      "cast=>[\"Pearl White\", \"Crane Wilbur\", \"Paul Panzer\", \"Edward Jos\\u00e8\"]\n",
      "title=>The Perils of Pauline\n",
      "num_mflix_comments=>0\n",
      "rated=>None\n",
      "imdb=>{\"id\": 4465, \"rating\": 7.6, \"votes\": 744}\n",
      "awards=>{\"nominations\": 0, \"text\": \"1 win.\", \"wins\": 1}\n",
      "type=>movie\n",
      "-----\n",
      "Content: Young Pauline is left a lot of money when her wealthy uncle dies. However, her uncle's secretary has been named as her guardian until she marries, at which time she will officially take possession of her inheritance. Meanwhile, her \"guardian\" and his confederates constantly come up with schemes to get rid of Pauline so that he can get his hands on the money himself.\n",
      "\n",
      "The Embedding model sees this: \n",
      " Metadata: plot=>Young Pauline is left a lot of money when her wealthy uncle dies. However, her uncle's secretary has been named as her guardian until she marries, at which time she will officially take ...\n",
      "genres=>[\"Action\"]\n",
      "directors=>[\"Louis J. Gasnier\", \"Donald MacKenzie\"]\n",
      "writers=>[\"Charles W. Goddard (screenplay)\", \"Basil Dickey (screenplay)\", \"Charles W. Goddard (novel)\", \"George B. Seitz\", \"Bertram Millhauser\"]\n",
      "countries=>[\"USA\"]\n",
      "languages=>[\"English\"]\n",
      "cast=>[\"Pearl White\", \"Crane Wilbur\", \"Paul Panzer\", \"Edward Jos\\u00e8\"]\n",
      "title=>The Perils of Pauline\n",
      "imdb=>{\"id\": 4465, \"rating\": 7.6, \"votes\": 744}\n",
      "awards=>{\"nominations\": 0, \"text\": \"1 win.\", \"wins\": 1}\n",
      "type=>movie\n",
      "-----\n",
      "Content: Young Pauline is left a lot of money when her wealthy uncle dies. However, her uncle's secretary has been named as her guardian until she marries, at which time she will officially take possession of her inheritance. Meanwhile, her \"guardian\" and his confederates constantly come up with schemes to get rid of Pauline so that he can get his hands on the money himself.\n"
     ]
    }
   ],
   "source": [
    "llama_documents = []\n",
    "\n",
    "for document in documents_list:\n",
    "\n",
    "  # Value for metadata must be one of (str, int, float, None)\n",
    "  document[\"writers\"] = json.dumps(document[\"writers\"])\n",
    "  document[\"languages\"] = json.dumps(document[\"languages\"])\n",
    "  document[\"genres\"] = json.dumps(document[\"genres\"])\n",
    "  document[\"cast\"] = json.dumps(document[\"cast\"])\n",
    "  document[\"directors\"] = json.dumps(document[\"directors\"])\n",
    "  document[\"countries\"] = json.dumps(document[\"countries\"])\n",
    "  document[\"imdb\"] = json.dumps(document[\"imdb\"])\n",
    "  document[\"awards\"] = json.dumps(document[\"awards\"])\n",
    "\n",
    "\n",
    "  # Create a Document object with the text and excluded metadata for llm and embedding models\n",
    "  llama_document = Document(\n",
    "      text=document[\"fullplot\"],\n",
    "      metadata=document,\n",
    "      excluded_llm_metadata_keys=[\"fullplot\", \"metacritic\"],\n",
    "      excluded_embed_metadata_keys=[\"fullplot\", \"metacritic\", \"poster\", \"num_mflix_comments\", \"runtime\", \"rated\"],\n",
    "      metadata_template=\"{key}=>{value}\",\n",
    "      text_template=\"Metadata: {metadata_str}\\n-----\\nContent: {content}\",\n",
    "      )\n",
    "\n",
    "  llama_documents.append(llama_document)\n",
    "\n",
    "# Observing an example of what the LLM and Embedding model receive as input\n",
    "print(\n",
    "    \"\\nThe LLM sees this: \\n\",\n",
    "    llama_documents[0].get_content(metadata_mode=MetadataMode.LLM),\n",
    ")\n",
    "print(\n",
    "    \"\\nThe Embedding model sees this: \\n\",\n",
    "    llama_documents[0].get_content(metadata_mode=MetadataMode.EMBED),\n",
    ")"
   ]
  },
  {
   "cell_type": "markdown",
   "id": "e65a74c2",
   "metadata": {},
   "source": [
    "Verificamos o conteudo de um documento:"
   ]
  },
  {
   "cell_type": "code",
   "execution_count": 12,
   "id": "4c238c2e-c75f-498c-afc2-f0be910ec623",
   "metadata": {},
   "outputs": [
    {
     "data": {
      "text/plain": [
       "Document(id_='f47b5c27-92d8-43bf-81f3-c59f4bcaf96a', embedding=None, metadata={'plot': 'A night club owner becomes infatuated with a torch singer and frames his best friend/manager for embezzlement when the chanteuse falls in love with him.', 'runtime': 95.0, 'genres': '[\"Action\", \"Drama\", \"Film-Noir\"]', 'fullplot': 'Jefty, owner of a roadhouse in a backwoods town, hires sultry, tough-talking torch singer Lily Stevens against the advice of his manager Pete Morgan. Jefty is smitten with Lily, who in turn exerts her charms on the more resistant Pete. When Pete finally falls for her and she turns down Jefty\\'s marriage proposal, they must face Jefty\\'s murderous jealousy and his twisted plots to \"punish\" the two.', 'directors': '[\"Jean Negulesco\"]', 'writers': '[\"Edward Chodorov (screen play)\", \"Margaret Gruen (story)\", \"Oscar Saul (story)\"]', 'countries': '[\"USA\"]', 'poster': 'https://m.media-amazon.com/images/M/MV5BMjc1ZTNkM2UtYzY3Yi00ZWZmLTljYmEtNjYxZDNmYzk2ZjkzXkEyXkFqcGdeQXVyMjUxODE0MDY@._V1_SY1000_SX677_AL_.jpg', 'languages': '[\"English\"]', 'cast': '[\"Ida Lupino\", \"Cornel Wilde\", \"Celeste Holm\", \"Richard Widmark\"]', 'title': 'Road House', 'num_mflix_comments': 2, 'rated': 'PASSED', 'imdb': '{\"id\": 40740, \"rating\": 7.3, \"votes\": 1353}', 'awards': '{\"nominations\": 1, \"text\": \"1 nomination.\", \"wins\": 0}', 'type': 'movie', 'metacritic': None}, excluded_embed_metadata_keys=['fullplot', 'metacritic', 'poster', 'num_mflix_comments', 'runtime', 'rated'], excluded_llm_metadata_keys=['fullplot', 'metacritic'], relationships={}, text='Jefty, owner of a roadhouse in a backwoods town, hires sultry, tough-talking torch singer Lily Stevens against the advice of his manager Pete Morgan. Jefty is smitten with Lily, who in turn exerts her charms on the more resistant Pete. When Pete finally falls for her and she turns down Jefty\\'s marriage proposal, they must face Jefty\\'s murderous jealousy and his twisted plots to \"punish\" the two.', mimetype='text/plain', start_char_idx=None, end_char_idx=None, text_template='Metadata: {metadata_str}\\n-----\\nContent: {content}', metadata_template='{key}=>{value}', metadata_seperator='\\n')"
      ]
     },
     "execution_count": 12,
     "metadata": {},
     "output_type": "execute_result"
    }
   ],
   "source": [
    "llama_documents[25]"
   ]
  },
  {
   "cell_type": "markdown",
   "id": "d8f12969",
   "metadata": {},
   "source": [
    "A etapa final do processamento, antes de armazenar os dados no banco de dados vetorial do MongoDB, é converter a lista de documentos do LlamaIndex em sentenças menores, ou `nodes`. Os `nodes` representam unidades em estruturas complexas, como árvores ou grafos, enquanto tokens são as menores unidades de texto manipuladas.\n",
    "\n",
    "Utilizamos o módulo `SentenceSplitter` do LlamaIndex para dividir os documentos em nodes e, em seguida, geramos embeddings para cada um desses nodes. \n",
    "\n"
   ]
  },
  {
   "cell_type": "code",
   "execution_count": 13,
   "id": "0fe77409",
   "metadata": {},
   "outputs": [],
   "source": [
    "from llama_index.core.node_parser import SentenceSplitter\n",
    "\n",
    "parser = SentenceSplitter()\n",
    "nodes = parser.get_nodes_from_documents(llama_documents)\n",
    "\n",
    "for node in nodes:\n",
    "    node_embedding = embed_model.get_text_embedding(\n",
    "        node.get_content(metadata_mode=\"all\")\n",
    "    )\n",
    "    node.embedding = node_embedding\n",
    "     "
   ]
  },
  {
   "cell_type": "markdown",
   "id": "66556821",
   "metadata": {},
   "source": [
    "Antes de prosseguir, precisaremos criar o cluster de banco de dados no MongoDB Atlas, seguindo o manual disponível em https://www.mongodb.com/docs/guides/atlas/cluster/.\n",
    "\n",
    "Após criar o cluster, crie o banco de dados e a coleção dentro do cluster clicando em `Create Database`. O banco de dados será chamado `movies`, e a coleção será chamada `movies_records`.\n"
   ]
  },
  {
   "cell_type": "markdown",
   "id": "b0a4010f",
   "metadata": {},
   "source": [
    "Para conectar ao cluster, forneça a `URI` (connection string). É importante que seu endereço IP seja adicionado à lista de permissões para autorizar o acesso ao seu cluster Atlas."
   ]
  },
  {
   "cell_type": "code",
   "execution_count": 14,
   "id": "e7d7a46a-d7c9-4726-bf64-86c448243835",
   "metadata": {},
   "outputs": [],
   "source": [
    "os.environ[\"URI\"] = getpass.getpass(\"URI:\")"
   ]
  },
  {
   "cell_type": "code",
   "execution_count": 15,
   "id": "268a378f-d944-4114-87b7-e587012e3aaa",
   "metadata": {},
   "outputs": [
    {
     "name": "stdout",
     "output_type": "stream",
     "text": [
      "MongoDB cluster is reachable\n",
      "MongoClient(host=['ac-fx09sp5-shard-00-01.pnon21i.mongodb.net:27017', 'ac-fx09sp5-shard-00-02.pnon21i.mongodb.net:27017', 'ac-fx09sp5-shard-00-00.pnon21i.mongodb.net:27017'], document_class=dict, tz_aware=False, connect=True, retrywrites=True, w='majority', appname='myAtlasClusterEDU', authsource='admin', replicaset='atlas-mrk941-shard-0', tls=True)\n"
     ]
    }
   ],
   "source": [
    "from pymongo.mongo_client import MongoClient\n",
    "from pymongo.errors import ConnectionFailure\n",
    "\n",
    "# Establishing connection\n",
    "try:\n",
    "    uri = os.environ[\"URI\"]\n",
    "    connect = MongoClient(uri)\n",
    "    print(\"MongoDB cluster is reachable\")\n",
    "    print(connect)\n",
    "except ConnectionFailure as e:\n",
    "    print(\"Could not connect to MongoDB\")\n",
    "    print(e)"
   ]
  },
  {
   "cell_type": "markdown",
   "id": "3e10cb97",
   "metadata": {},
   "source": [
    "Acesse o banco de dados e a coleção:"
   ]
  },
  {
   "cell_type": "code",
   "execution_count": 17,
   "id": "8b9b056d-3c60-4b17-a7d6-d27000a5fd8d",
   "metadata": {},
   "outputs": [],
   "source": [
    "mongo_client = MongoClient(uri)\n",
    "\n",
    "DB_NAME=\"movies\"\n",
    "COLLECTION_NAME=\"movies_records\"\n",
    "\n",
    "db = mongo_client[DB_NAME]\n",
    "collection = db[COLLECTION_NAME]"
   ]
  },
  {
   "cell_type": "markdown",
   "id": "ba447589",
   "metadata": {},
   "source": [
    "Para garantir que estamos trabalhando com uma coleção nova, exclua todos os registros existentes na coleção:"
   ]
  },
  {
   "cell_type": "code",
   "execution_count": 18,
   "id": "f9dac486",
   "metadata": {},
   "outputs": [
    {
     "data": {
      "text/plain": [
       "DeleteResult({'n': 100, 'electionId': ObjectId('7fffffff0000000000000098'), 'opTime': {'ts': Timestamp(1725375486, 1124), 't': 152}, 'ok': 1.0, '$clusterTime': {'clusterTime': Timestamp(1725375486, 1134), 'signature': {'hash': b'\\xe2:%\\xdd}\\x92\\x03\\r\\x08^\\x9a4\\x8e}\\x8e\\n\\xcb\\xb8\\x04c', 'keyId': 7376317674717970437}}, 'operationTime': Timestamp(1725375486, 1124)}, acknowledged=True)"
      ]
     },
     "execution_count": 18,
     "metadata": {},
     "output_type": "execute_result"
    }
   ],
   "source": [
    "\n",
    "collection.delete_many({})\n"
   ]
  },
  {
   "cell_type": "markdown",
   "id": "d46e7c54",
   "metadata": {},
   "source": [
    "Neste passo, criamos um índice de busca vetorial na coleção `movies_records`, que será utilizado para garantir a recuperação eficiente de documentos no MongoDB. O índice pode ser criado usando o arquivo `vector-index.py` ou diretamente no MongoDB Atlas.\n",
    "\n",
    "Em seguida, inicializamos um objeto de armazenamento vetorial (vector store) por meio do LlamaIndex e adicionamos os nodes a esse objeto utilizando o método `.add().`"
   ]
  },
  {
   "cell_type": "code",
   "execution_count": 19,
   "id": "40501841-84fe-4ca2-86ce-7a10f711d1ed",
   "metadata": {},
   "outputs": [
    {
     "name": "stderr",
     "output_type": "stream",
     "text": [
      "index_name is deprecated. Please use vector_index_name\n",
      "vector_index_name and index_name both specified. Will use vector_index_name\n"
     ]
    },
    {
     "data": {
      "text/plain": [
       "['c22e26f5-7b23-4f25-9cf9-28e4878c548a',\n",
       " '74a6b794-f5e0-4933-9838-5bbea2511ff3',\n",
       " '3b562c34-4f96-4470-b077-d14b914ae27a',\n",
       " 'e6d4d105-0b09-48dc-bfa1-dc05bfc15280',\n",
       " '4dd37c83-f3b2-4d36-8aca-0bfa61f24bee',\n",
       " 'decdc1df-b31d-4a90-a8e6-ef05d815b74d',\n",
       " '964de095-b627-4f0d-b82d-14f915e22b96',\n",
       " '0aa24efb-a10b-430a-8a59-5f1de6d4b18f',\n",
       " '040cb6c2-4311-4fa9-9a9c-340bc179b494',\n",
       " '01e0db6e-8a99-4b60-bbf7-628a55098108',\n",
       " 'b9ae3a30-8438-4b7d-bcfe-f489c26ba760',\n",
       " '32065e55-3d53-4ac1-b3ff-eb899378e355',\n",
       " 'bb48fcf3-1246-4689-8f19-fe72d85433e1',\n",
       " 'aba1be89-6367-4699-b154-e6142919d7a0',\n",
       " 'c6ff2681-e5de-4143-a25e-2285a8339d29',\n",
       " '61558c1c-ffcc-44ab-992a-9359713827d1',\n",
       " '4201f151-496a-4e6e-bb57-c4b8e2f2960a',\n",
       " '3ff8e751-569d-46a7-83b3-1a2a88629126',\n",
       " 'b72a7164-a9fd-485d-9444-feada428ab18',\n",
       " '54569bf7-cebe-47eb-9c52-9d58746254cd',\n",
       " 'f8f8d536-330c-41ee-b103-a1a75e636b71',\n",
       " '500a8f90-bb7b-4e6c-bc5c-25577aef7fe1',\n",
       " '020855af-7390-4c3e-b65b-da862aa8c34d',\n",
       " '0883db55-65b2-4f06-be30-5d4616a05777',\n",
       " 'afa76012-4fbf-4b96-8bda-f458e1e3bf96',\n",
       " '1e5e1115-6777-4218-b07d-a92bb5d94f6a',\n",
       " '1bb88ff2-fb84-40a9-8f31-5450d20cb79e',\n",
       " '2d3929c9-2197-4fd5-bfec-278afe153c7f',\n",
       " '5611a0eb-4bb9-4258-9934-f13c4cc0aa2a',\n",
       " 'd70f7583-2d27-4d55-affa-998d7d88db29',\n",
       " '0e6d4989-42cb-44d3-be33-a2ecba0fffb3',\n",
       " '936bcd37-595a-4842-ac10-922414dc807e',\n",
       " '0c504799-eb1a-4c67-a7b9-ab4c77d49d43',\n",
       " 'c8798d15-24d5-4b3c-9cb3-3a299fc7c75b',\n",
       " 'ac893ae3-be95-4f6c-81a9-277d08d053d7',\n",
       " '53e9c972-4e55-4aaa-9b70-e33f7d286af7',\n",
       " '5cd7dbc2-7b6f-49e1-899e-eef1edb4efaf',\n",
       " '96aed63c-31e9-4a4e-961d-cb1147157965',\n",
       " '307c26a9-351e-4c52-bc1e-f5b8a0930072',\n",
       " 'db1e90df-a116-4651-a96f-2d4df9e29413',\n",
       " '65f2ae7f-579a-45cb-98fd-382352aeca48',\n",
       " '539ff63d-0a5f-4b9c-8bc5-675768246ea6',\n",
       " '88ab7f12-12cf-46e6-9456-6b6da9d3db87',\n",
       " '2ef0d5e2-e59f-4b43-99af-bf2907af699a',\n",
       " '454b9b18-c375-4d57-b50e-3a2a8a5e5d9d',\n",
       " '6529247f-46d0-4891-b3d1-a764c910b1a7',\n",
       " 'cb749735-5c4d-4855-8a29-fb958543df66',\n",
       " '288cc6c6-5634-4cfc-bc68-cdd6b729cb68',\n",
       " '5420ce9c-eb5d-443f-8b9f-02823e8a4a13',\n",
       " '472c4faa-eb4f-4297-84cb-59df15ee0d4d',\n",
       " '0c7cf130-fdc4-4e4f-b3ed-a4ea116ecda1',\n",
       " '940f3193-b1c3-4d0f-b1a3-ba83c449603b',\n",
       " 'c8bd5d0b-404f-41c3-af5e-197166823999',\n",
       " 'a20d7f4e-d889-484e-bdc3-4b2427d0c142',\n",
       " '7fe5ec78-4bf0-4aa2-96cd-2ee232d3074f',\n",
       " 'e5c01d13-4afc-48bc-8c78-5922343466f5',\n",
       " '8974d0be-f81a-4f96-8c50-d73fcc5cd23b',\n",
       " 'd3a28edb-ca87-4bbe-8406-6c2f7fbba08c',\n",
       " '6fc4cab0-8093-4a1a-9f78-f959c4a8c4b2',\n",
       " 'db087a70-25a5-4fd4-a4c3-befd030286f3',\n",
       " '43722612-2fcd-4f31-8984-52656c412ef5',\n",
       " 'bd0ac9d6-d3b6-4935-b99a-ae0889a7d554',\n",
       " '86911f0f-e2d3-4007-88db-8be89fb19b0e',\n",
       " '313865a6-e73c-4fc9-9e01-47ceac8c6053',\n",
       " 'a840e116-2791-474a-9a27-ec40f7632646',\n",
       " '249ac5d4-461f-4e85-8f8e-4e76262c47f4',\n",
       " '0dab6b6b-4131-4655-ab58-7504a7fb8f30',\n",
       " '4b1e7324-cde0-405e-8526-790d04bb3cd6',\n",
       " '08033217-1b91-486e-87fd-d819ae66a9de',\n",
       " '1a6644c5-c352-4021-9d64-ca01bdd868bc',\n",
       " 'ab82b522-37db-4d4a-b226-2a3ec2729dee',\n",
       " '6e8c174e-7cb5-4f11-8038-910dc3fba922',\n",
       " 'a0899c88-9b91-44ad-be58-8c9d47dcb411',\n",
       " '055af8db-4d66-4f1b-9e8d-69a2a8e4bca2',\n",
       " '2e75a786-11b9-4c81-aa1b-c424d666e132',\n",
       " 'a282b380-20c5-4ab9-b0a9-4019a629bc63',\n",
       " '4b56ced4-4b17-4707-a3f0-1513ff3e86c9',\n",
       " 'e88edca1-15ab-4a45-bedf-be2e21feffbe',\n",
       " '0c2a7116-76ed-4126-a4e9-5e39d206e7ab',\n",
       " '612771b4-a708-42df-8275-66a92e6ae738',\n",
       " '548dec37-2c7d-441f-a17e-c07069a5f4c9',\n",
       " '22490915-e416-4365-8a4f-29d8461a955e',\n",
       " '7541ef6f-38c4-4872-9b60-de859cbb517f',\n",
       " '080caba1-75c4-446c-9b7e-da54c0d47c5c',\n",
       " '990c23bb-2262-415a-b44f-da9fd78ad0f7',\n",
       " '4c321df6-dd4a-4f72-9328-4741d98efb7f',\n",
       " '14b5723b-8003-4efd-bf3c-3e946c8ee4d3',\n",
       " '5e774dc8-9a67-4f43-8cf4-b65dddfe6095',\n",
       " '2e8e661f-ebad-453a-aa0d-9013e2c1011d',\n",
       " 'ad422bfc-ac6a-4031-a3a7-e3545b660b9f',\n",
       " 'eb993bf7-aa40-4a66-a80f-1eb56fb468cc',\n",
       " 'c9e91b31-cab4-44fd-a4f5-04903cfe4571',\n",
       " '297075a0-2703-42cb-935c-7ac2f46ae24c',\n",
       " '6aa63f7b-c8b3-48c5-a7f7-8330fb6d750d',\n",
       " '7a6860b6-72f0-48ad-896f-86d82c8d53f7',\n",
       " '94b79a79-4bb9-4f64-b895-462e3a63e441',\n",
       " '7f49c355-2292-493e-b374-7b6dc1b25ed6',\n",
       " '028fb974-0506-4208-8de5-b658fec3668a',\n",
       " 'c890591b-e939-4af6-a6bc-63975c9e3a79',\n",
       " '354b9b86-fcca-45d0-b6f4-24e3eb506a41']"
      ]
     },
     "execution_count": 19,
     "metadata": {},
     "output_type": "execute_result"
    }
   ],
   "source": [
    "from llama_index.vector_stores.mongodb import MongoDBAtlasVectorSearch\n",
    "\n",
    "vector_store = MongoDBAtlasVectorSearch(mongo_client, db_name=DB_NAME, collection_name=COLLECTION_NAME, index_name=\"vector_index\")\n",
    "vector_store.add(nodes)"
   ]
  },
  {
   "cell_type": "markdown",
   "id": "23711251",
   "metadata": {},
   "source": [
    "O último passo é criar um mecanismo de consulta no LlamaIndex, que permite utilizar linguagem natural para recuperar informações relevantes e contextualmente apropriadas a partir do índice de dados."
   ]
  },
  {
   "cell_type": "code",
   "execution_count": 23,
   "id": "3748c3db-7f7c-4de6-ac4f-2184520d1a5b",
   "metadata": {},
   "outputs": [
    {
     "data": {
      "text/markdown": [
       "**`Final Response:`** \"Jungle Book\" seria uma ótimo filme de fantasia para assistir com crianças, pois conta a história de Mowgli, um menino criado por lobos que tenta se adaptar à vida na aldeia humana. A narrativa envolve aventuras emocionantes na selva, amizades incomuns com animais e lições valiosas sobre aceitação e compreensão. É uma escolha cativante e educativa para entreter e inspirar crianças de todas as idades."
      ],
      "text/plain": [
       "<IPython.core.display.Markdown object>"
      ]
     },
     "metadata": {},
     "output_type": "display_data"
    },
    {
     "name": "stdout",
     "output_type": "stream",
     "text": [
      "[NodeWithScore(node=TextNode(id_='14b5723b-8003-4efd-bf3c-3e946c8ee4d3', embedding=None, metadata={'plot': 'Period piece about a Brazil that is no more. This movie is the sequel to \"God and the Devil in the Land of the Sun\" (Deus e o diabo na terra do sol), and takes place 29 years after Antonio ...', 'runtime': 100.0, 'genres': '[\"Action\", \"Crime\", \"Drama\"]', 'fullplot': 'Period piece about a Brazil that is no more. This movie is the sequel to \"God and the Devil in the Land of the Sun\" (Deus e o diabo na terra do sol), and takes place 29 years after Antonio das Mortes killed Corisco (the \"Blond Devil\"), last of the Cangaceiros. In \"the old days\", Antonio\\'s function in life was exterminate these bandits, on account of his personal grudges against them. His life had been meaningless for the last 29 years, but now, a new challenge awaits him. When a Cangaceiro appears in Jardim Das Piranhas, the local Land Baron (Jofre Soares), an old man, does what seems obvious to him: he calls Antonio das Mortes, killer of Cangaceiros. At first, Antonio is ecstatic. His life has gained new meaning. But soon it becomes obvious that this new Cangaceiro (named Coirana) is no Corisco, but an idealist. An idealist of the sixties in the garb of the forties. A leader to the hopeless and the hungry. Antonio das Mortes begins to reconsider his feelings towards Coirana and his followers...', 'directors': '[\"Glauber Rocha\"]', 'writers': '[\"Glauber Rocha\"]', 'countries': '[\"France\", \"Brazil\", \"West Germany\"]', 'poster': 'https://m.media-amazon.com/images/M/MV5BYjI1MjBmY2UtZWUyOC00NWZmLWE5NjYtNGVlYWVmZWQ1NjRlXkEyXkFqcGdeQXVyNzQzNzQxNzI@._V1_SY1000_SX677_AL_.jpg', 'languages': '[\"Portuguese\"]', 'cast': '[\"Maur\\\\u00e8cio do Valle\", \"Odete Lara\", \"Othon Bastos\", \"Hugo Carvana\"]', 'title': 'Antonio das Mortes', 'num_mflix_comments': 1, 'rated': None, 'imdb': '{\"id\": 64256, \"rating\": 7.2, \"votes\": 997}', 'awards': '{\"nominations\": 1, \"text\": \"1 win & 1 nomination.\", \"wins\": 1}', 'type': 'movie', 'metacritic': None}, excluded_embed_metadata_keys=['fullplot', 'metacritic', 'poster', 'num_mflix_comments', 'runtime', 'rated'], excluded_llm_metadata_keys=['fullplot', 'metacritic'], relationships={<NodeRelationship.SOURCE: '1'>: RelatedNodeInfo(node_id='2a895ee2-043f-458c-b6ec-72e55e55eec6', node_type=<ObjectType.DOCUMENT: '4'>, metadata={'plot': 'Period piece about a Brazil that is no more. This movie is the sequel to \"God and the Devil in the Land of the Sun\" (Deus e o diabo na terra do sol), and takes place 29 years after Antonio ...', 'runtime': 100.0, 'genres': '[\"Action\", \"Crime\", \"Drama\"]', 'fullplot': 'Period piece about a Brazil that is no more. This movie is the sequel to \"God and the Devil in the Land of the Sun\" (Deus e o diabo na terra do sol), and takes place 29 years after Antonio das Mortes killed Corisco (the \"Blond Devil\"), last of the Cangaceiros. In \"the old days\", Antonio\\'s function in life was exterminate these bandits, on account of his personal grudges against them. His life had been meaningless for the last 29 years, but now, a new challenge awaits him. When a Cangaceiro appears in Jardim Das Piranhas, the local Land Baron (Jofre Soares), an old man, does what seems obvious to him: he calls Antonio das Mortes, killer of Cangaceiros. At first, Antonio is ecstatic. His life has gained new meaning. But soon it becomes obvious that this new Cangaceiro (named Coirana) is no Corisco, but an idealist. An idealist of the sixties in the garb of the forties. A leader to the hopeless and the hungry. Antonio das Mortes begins to reconsider his feelings towards Coirana and his followers...', 'directors': '[\"Glauber Rocha\"]', 'writers': '[\"Glauber Rocha\"]', 'countries': '[\"France\", \"Brazil\", \"West Germany\"]', 'poster': 'https://m.media-amazon.com/images/M/MV5BYjI1MjBmY2UtZWUyOC00NWZmLWE5NjYtNGVlYWVmZWQ1NjRlXkEyXkFqcGdeQXVyNzQzNzQxNzI@._V1_SY1000_SX677_AL_.jpg', 'languages': '[\"Portuguese\"]', 'cast': '[\"Maur\\\\u00e8cio do Valle\", \"Odete Lara\", \"Othon Bastos\", \"Hugo Carvana\"]', 'title': 'Antonio das Mortes', 'num_mflix_comments': 1, 'rated': None, 'imdb': '{\"id\": 64256, \"rating\": 7.2, \"votes\": 997}', 'awards': '{\"nominations\": 1, \"text\": \"1 win & 1 nomination.\", \"wins\": 1}', 'type': 'movie', 'metacritic': None}, hash='e6e05afb3a6f8cd5ad7f19b6ada6e8f2e47ab9ab3018607a417864a696e760a2')}, text='Period piece about a Brazil that is no more. This movie is the sequel to \"God and the Devil in the Land of the Sun\" (Deus e o diabo na terra do sol), and takes place 29 years after Antonio das Mortes killed Corisco (the \"Blond Devil\"), last of the Cangaceiros. In \"the old days\", Antonio\\'s function in life was exterminate these bandits, on account of his personal grudges against them. His life had been meaningless for the last 29 years, but now, a new challenge awaits him. When a Cangaceiro appears in Jardim Das Piranhas, the local Land Baron (Jofre Soares), an old man, does what seems obvious to him: he calls Antonio das Mortes, killer of Cangaceiros. At first, Antonio is ecstatic. His life has gained new meaning. But soon it becomes obvious that this new Cangaceiro (named Coirana) is no Corisco, but an idealist. An idealist of the sixties in the garb of the forties. A leader to the hopeless and the hungry. Antonio das Mortes begins to reconsider his feelings towards Coirana and his followers...', mimetype='text/plain', start_char_idx=0, end_char_idx=1010, text_template='Metadata: {metadata_str}\\n-----\\nContent: {content}', metadata_template='{key}=>{value}', metadata_seperator='\\n'), score=0.6694682836532593),\n",
      " NodeWithScore(node=TextNode(id_='54569bf7-cebe-47eb-9c52-9d58746254cd', embedding=None, metadata={'plot': 'A boy raised by wolves tries to adapt to human village life.', 'runtime': 108.0, 'genres': '[\"Action\", \"Adventure\", \"Family\"]', 'fullplot': \"Teenaged Mowgli, who was raised by wolves, appears in a village in India and is adopted by Messua. Mowgli learns human language and some human ways quickly, though keeping jungle ideas. Influential Merchant Buldeo is bigoted against 'beasts' including Mowgli; not so Buldeo's pretty daughter, whom Mowgli takes on a jungle tour where they find a treasure, setting the evil of human greed in motion.\", 'directors': '[\"Zoltan Korda\"]', 'writers': '[\"Laurence Stallings (adaptation)\"]', 'countries': '[\"USA\", \"UK\"]', 'poster': 'https://m.media-amazon.com/images/M/MV5BZDhhNGU3ZmYtNjlkMy00Njc1LTgyZWUtYTlmOWVjODE0NGU0L2ltYWdlXkEyXkFqcGdeQXVyMjI4MjA5MzA@._V1_SY1000_SX677_AL_.jpg', 'languages': '[\"English\"]', 'cast': '[\"Sabu\", \"Joseph Calleia\", \"John Qualen\", \"Frank Puglia\"]', 'title': 'Jungle Book', 'num_mflix_comments': 0, 'rated': 'APPROVED', 'imdb': '{\"id\": 34928, \"rating\": 6.8, \"votes\": 2569}', 'awards': '{\"nominations\": 0, \"text\": \"Nominated for 4 Oscars. Another 1 win.\", \"wins\": 5}', 'type': 'movie', 'metacritic': None}, excluded_embed_metadata_keys=['fullplot', 'metacritic', 'poster', 'num_mflix_comments', 'runtime', 'rated'], excluded_llm_metadata_keys=['fullplot', 'metacritic'], relationships={<NodeRelationship.SOURCE: '1'>: RelatedNodeInfo(node_id='3a5363a5-74b4-4a5c-81d2-609c585c9b02', node_type=<ObjectType.DOCUMENT: '4'>, metadata={'plot': 'A boy raised by wolves tries to adapt to human village life.', 'runtime': 108.0, 'genres': '[\"Action\", \"Adventure\", \"Family\"]', 'fullplot': \"Teenaged Mowgli, who was raised by wolves, appears in a village in India and is adopted by Messua. Mowgli learns human language and some human ways quickly, though keeping jungle ideas. Influential Merchant Buldeo is bigoted against 'beasts' including Mowgli; not so Buldeo's pretty daughter, whom Mowgli takes on a jungle tour where they find a treasure, setting the evil of human greed in motion.\", 'directors': '[\"Zoltan Korda\"]', 'writers': '[\"Laurence Stallings (adaptation)\"]', 'countries': '[\"USA\", \"UK\"]', 'poster': 'https://m.media-amazon.com/images/M/MV5BZDhhNGU3ZmYtNjlkMy00Njc1LTgyZWUtYTlmOWVjODE0NGU0L2ltYWdlXkEyXkFqcGdeQXVyMjI4MjA5MzA@._V1_SY1000_SX677_AL_.jpg', 'languages': '[\"English\"]', 'cast': '[\"Sabu\", \"Joseph Calleia\", \"John Qualen\", \"Frank Puglia\"]', 'title': 'Jungle Book', 'num_mflix_comments': 0, 'rated': 'APPROVED', 'imdb': '{\"id\": 34928, \"rating\": 6.8, \"votes\": 2569}', 'awards': '{\"nominations\": 0, \"text\": \"Nominated for 4 Oscars. Another 1 win.\", \"wins\": 5}', 'type': 'movie', 'metacritic': None}, hash='7e1adf886bb643d12d1fdb6a5fd1423e566fd147d8f293b8b55658871924faeb')}, text=\"Teenaged Mowgli, who was raised by wolves, appears in a village in India and is adopted by Messua. Mowgli learns human language and some human ways quickly, though keeping jungle ideas. Influential Merchant Buldeo is bigoted against 'beasts' including Mowgli; not so Buldeo's pretty daughter, whom Mowgli takes on a jungle tour where they find a treasure, setting the evil of human greed in motion.\", mimetype='text/plain', start_char_idx=0, end_char_idx=398, text_template='Metadata: {metadata_str}\\n-----\\nContent: {content}', metadata_template='{key}=>{value}', metadata_seperator='\\n'), score=0.6684675812721252),\n",
      " NodeWithScore(node=TextNode(id_='6aa63f7b-c8b3-48c5-a7f7-8330fb6d750d', embedding=None, metadata={'plot': 'Luke, an escaped convict, and Jaroo, a loner gold prospector, team up with a band of Apache Indians in 19th century Mexico to capture a large, heavily armed fortress for the millions -- or ...', 'runtime': 102.0, 'genres': '[\"Action\", \"Adventure\", \"Romance\"]', 'fullplot': 'Luke, an escaped convict, and Jaroo, a loner gold prospector, team up with a band of Apache Indians in 19th century Mexico to capture a large, heavily armed fortress for the millions -- or billions -- of dollars in gold that are rumored to be stored within.', 'directors': '[\"John Guillermin\"]', 'writers': '[\"Larry Cohen (screenplay)\", \"Steven W. Carabatsos (screenplay)\", \"Steven W. Carabatsos (story)\"]', 'countries': '[\"USA\"]', 'poster': 'https://m.media-amazon.com/images/M/MV5BYzEyMTY0OTktNWQyNi00NWUxLTgyMTMtMmEwMjBhYzk1ODUyL2ltYWdlL2ltYWdlXkEyXkFqcGdeQXVyNzc5MjA3OA@@._V1_SY1000_SX677_AL_.jpg', 'languages': '[\"English\", \"Apache languages\"]', 'cast': '[\"Jim Brown\", \"Lee Van Cleef\", \"Patrick O\\'Neal\", \"Marianna Hill\"]', 'title': 'El Condor', 'num_mflix_comments': 0, 'rated': 'R', 'imdb': '{\"id\": 65570, \"rating\": 6.0, \"votes\": 664}', 'awards': '{\"nominations\": 0, \"text\": \"1 win.\", \"wins\": 1}', 'type': 'movie', 'metacritic': None}, excluded_embed_metadata_keys=['fullplot', 'metacritic', 'poster', 'num_mflix_comments', 'runtime', 'rated'], excluded_llm_metadata_keys=['fullplot', 'metacritic'], relationships={<NodeRelationship.SOURCE: '1'>: RelatedNodeInfo(node_id='00eb80af-0692-43e7-945d-f8dd34f674bb', node_type=<ObjectType.DOCUMENT: '4'>, metadata={'plot': 'Luke, an escaped convict, and Jaroo, a loner gold prospector, team up with a band of Apache Indians in 19th century Mexico to capture a large, heavily armed fortress for the millions -- or ...', 'runtime': 102.0, 'genres': '[\"Action\", \"Adventure\", \"Romance\"]', 'fullplot': 'Luke, an escaped convict, and Jaroo, a loner gold prospector, team up with a band of Apache Indians in 19th century Mexico to capture a large, heavily armed fortress for the millions -- or billions -- of dollars in gold that are rumored to be stored within.', 'directors': '[\"John Guillermin\"]', 'writers': '[\"Larry Cohen (screenplay)\", \"Steven W. Carabatsos (screenplay)\", \"Steven W. Carabatsos (story)\"]', 'countries': '[\"USA\"]', 'poster': 'https://m.media-amazon.com/images/M/MV5BYzEyMTY0OTktNWQyNi00NWUxLTgyMTMtMmEwMjBhYzk1ODUyL2ltYWdlL2ltYWdlXkEyXkFqcGdeQXVyNzc5MjA3OA@@._V1_SY1000_SX677_AL_.jpg', 'languages': '[\"English\", \"Apache languages\"]', 'cast': '[\"Jim Brown\", \"Lee Van Cleef\", \"Patrick O\\'Neal\", \"Marianna Hill\"]', 'title': 'El Condor', 'num_mflix_comments': 0, 'rated': 'R', 'imdb': '{\"id\": 65570, \"rating\": 6.0, \"votes\": 664}', 'awards': '{\"nominations\": 0, \"text\": \"1 win.\", \"wins\": 1}', 'type': 'movie', 'metacritic': None}, hash='462d60dbcfc1c07b3e84b7ab0b2d79774a36605ebe9e4d4945d5abe4198403c8')}, text='Luke, an escaped convict, and Jaroo, a loner gold prospector, team up with a band of Apache Indians in 19th century Mexico to capture a large, heavily armed fortress for the millions -- or billions -- of dollars in gold that are rumored to be stored within.', mimetype='text/plain', start_char_idx=0, end_char_idx=257, text_template='Metadata: {metadata_str}\\n-----\\nContent: {content}', metadata_template='{key}=>{value}', metadata_seperator='\\n'), score=0.6665008068084717)]\n"
     ]
    }
   ],
   "source": [
    "import pprint\n",
    "from llama_index.core.response.notebook_utils import display_response\n",
    "from llama_index.core import VectorStoreIndex\n",
    "\n",
    "index = VectorStoreIndex.from_vector_store(vector_store)\n",
    "\n",
    "query_engine = index.as_query_engine(similarity_top_k=3)\n",
    "query = \"Recomende um filme de fantasia para assistir com crianças e justifique sua escolha.\"\n",
    "response = query_engine.query(query)\n",
    "display_response(response)\n",
    "pprint.pprint(response.source_nodes)\n"
   ]
  }
 ],
 "metadata": {
  "kernelspec": {
   "display_name": "Python 3 (ipykernel)",
   "language": "python",
   "name": "python3"
  },
  "language_info": {
   "codemirror_mode": {
    "name": "ipython",
    "version": 3
   },
   "file_extension": ".py",
   "mimetype": "text/x-python",
   "name": "python",
   "nbconvert_exporter": "python",
   "pygments_lexer": "ipython3",
   "version": "3.12.1"
  }
 },
 "nbformat": 4,
 "nbformat_minor": 5
}
